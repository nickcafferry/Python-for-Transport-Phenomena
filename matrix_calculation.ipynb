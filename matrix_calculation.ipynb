{
 "cells": [
  {
   "cell_type": "code",
   "execution_count": 1,
   "metadata": {},
   "outputs": [
    {
     "name": "stdout",
     "output_type": "stream",
     "text": [
      "IPython console for SymPy 1.4 (Python 3.7.4-64-bit) (ground types: python)\n",
      "\n",
      "These commands were executed:\n",
      ">>> from __future__ import division\n",
      ">>> from sympy import *\n",
      ">>> x, y, z, t = symbols('x y z t')\n",
      ">>> k, m, n = symbols('k m n', integer=True)\n",
      ">>> f, g, h = symbols('f g h', cls=Function)\n",
      ">>> init_printing()\n",
      "\n",
      "Documentation can be found at https://docs.sympy.org/1.4/\n",
      "\n"
     ]
    }
   ],
   "source": [
    "from sympy import *\n",
    "init_session()"
   ]
  },
  {
   "cell_type": "code",
   "execution_count": 2,
   "metadata": {},
   "outputs": [],
   "source": [
    "@vectorize(0,1)\n",
    "def vdiff(f,y):\n",
    "    return diff(f,y)"
   ]
  },
  {
   "cell_type": "code",
   "execution_count": 3,
   "metadata": {},
   "outputs": [
    {
     "data": {
      "image/png": "[encoded data removed]",
      "text/latex": [
       "$\\displaystyle \\left[ \\left[ \\frac{\\partial}{\\partial x} f{\\left(x,y,z \\right)}, \\  \\frac{\\partial}{\\partial y} f{\\left(x,y,z \\right)}, \\  \\frac{\\partial}{\\partial z} f{\\left(x,y,z \\right)}\\right], \\  \\left[ \\frac{\\partial}{\\partial x} g{\\left(x,y,z \\right)}, \\  \\frac{\\partial}{\\partial y} g{\\left(x,y,z \\right)}, \\  \\frac{\\partial}{\\partial z} g{\\left(x,y,z \\right)}\\right], \\  \\left[ \\frac{\\partial}{\\partial x} h{\\left(x,y,z \\right)}, \\  \\frac{\\partial}{\\partial y} h{\\left(x,y,z \\right)}, \\  \\frac{\\partial}{\\partial z} h{\\left(x,y,z \\right)}\\right]\\right]$"
      ],
      "text/plain": [
       "⎡⎡∂               ∂               ∂             ⎤  ⎡∂               ∂         \n",
       "⎢⎢──(f(x, y, z)), ──(f(x, y, z)), ──(f(x, y, z))⎥, ⎢──(g(x, y, z)), ──(g(x, y,\n",
       "⎣⎣∂x              ∂y              ∂z            ⎦  ⎣∂x              ∂y        \n",
       "\n",
       "      ∂             ⎤  ⎡∂               ∂               ∂             ⎤⎤\n",
       " z)), ──(g(x, y, z))⎥, ⎢──(h(x, y, z)), ──(h(x, y, z)), ──(h(x, y, z))⎥⎥\n",
       "      ∂z            ⎦  ⎣∂x              ∂y              ∂z            ⎦⎦"
      ]
     },
     "execution_count": 3,
     "metadata": {},
     "output_type": "execute_result"
    }
   ],
   "source": [
    "vdiff([f(x, y, z), g(x, y, z), h(x, y, z)], [x, y, z])"
   ]
  },
  {
   "cell_type": "code",
   "execution_count": 4,
   "metadata": {},
   "outputs": [
    {
     "data": {
      "image/png": "[encoded data removed]",
      "text/latex": [
       "$\\displaystyle \\left[ \\frac{\\partial}{\\partial x} s{\\left(x,y,z \\right)}, \\  \\frac{\\partial}{\\partial y} s{\\left(x,y,z \\right)}, \\  \\frac{\\partial}{\\partial z} s{\\left(x,y,z \\right)}\\right]$"
      ],
      "text/plain": [
       "⎡∂               ∂               ∂             ⎤\n",
       "⎢──(s(x, y, z)), ──(s(x, y, z)), ──(s(x, y, z))⎥\n",
       "⎣∂x              ∂y              ∂z            ⎦"
      ]
     },
     "execution_count": 4,
     "metadata": {},
     "output_type": "execute_result"
    }
   ],
   "source": [
    "s = symbols(\"s\",cls=Function)\n",
    "vdiff(s(x,y,z),[x,y,z])"
   ]
  },
  {
   "cell_type": "code",
   "execution_count": 5,
   "metadata": {},
   "outputs": [
    {
     "name": "stdout",
     "output_type": "stream",
     "text": [
      "(2*C.x*C.y - C.y)*C.i + (C.x**2 - C.x)*C.j\n"
     ]
    }
   ],
   "source": [
    "from sympy.vector import CoordSys3D, gradient, Del\n",
    "# 1 gradient\n",
    "C = CoordSys3D('C')\n",
    "\n",
    "delop = Del() # nabla算子\n",
    "\n",
    "# 标量场 f = x**2*y-xy\n",
    "f = C.x**2*C.y - C.x*C.y\n",
    "\n",
    "res = delop.gradient(f, doit=True) # 使用nabla算子\n",
    "# res = delop(f).doit()\n",
    "\n",
    "res = gradient(f) # 直接使用gradient\n",
    "print(res) # (2*C.x*C.y - C.y)*C.i + (C.x**2 - C.x)*C.j"
   ]
  },
  {
   "cell_type": "code",
   "execution_count": 6,
   "metadata": {},
   "outputs": [],
   "source": [
    "f = symbols('f', cls=Function)"
   ]
  },
  {
   "cell_type": "code",
   "execution_count": 7,
   "metadata": {},
   "outputs": [
    {
     "data": {
      "image/png": "[encoded data removed]",
      "text/latex": [
       "$\\displaystyle \\left( 2 x y - y, \\  x^{2} - x\\right)$"
      ],
      "text/plain": [
       "⎛            2    ⎞\n",
       "⎝2⋅x⋅y - y, x  - x⎠"
      ]
     },
     "execution_count": 7,
     "metadata": {},
     "output_type": "execute_result"
    }
   ],
   "source": [
    "diff(x**2*y-x*y,x), diff(x**2*y-x*y,y)"
   ]
  },
  {
   "cell_type": "code",
   "execution_count": 8,
   "metadata": {},
   "outputs": [
    {
     "name": "stdout",
     "output_type": "stream",
     "text": [
      "(Derivative(s(D.x, D.y, D.z), D.x))*D.i + (Derivative(s(D.x, D.y, D.z), D.y))*D.j + (Derivative(s(D.x, D.y, D.z), D.z))*D.k\n"
     ]
    }
   ],
   "source": [
    "from sympy.vector import CoordSys3D,gradient,Del\n",
    "D = CoordSys3D('D')\n",
    "delop = Del()\n",
    "s = Function('s')(D.x,D.y,D.z)\n",
    "delta_s = delop.gradient(s,doit=True)\n",
    "print(delta_s)"
   ]
  },
  {
   "cell_type": "code",
   "execution_count": 9,
   "metadata": {},
   "outputs": [],
   "source": [
    "init_printing(use_unicode=True)"
   ]
  },
  {
   "cell_type": "code",
   "execution_count": 10,
   "metadata": {},
   "outputs": [
    {
     "data": {
      "image/png": "[encoded data removed]",
      "text/latex": [
       "$\\displaystyle (\\frac{\\partial}{\\partial \\mathbf{{x}_{D}}} s{\\left(\\mathbf{{x}_{D}},\\mathbf{{y}_{D}},\\mathbf{{z}_{D}} \\right)})\\mathbf{\\hat{i}_{D}} + (\\frac{\\partial}{\\partial \\mathbf{{y}_{D}}} s{\\left(\\mathbf{{x}_{D}},\\mathbf{{y}_{D}},\\mathbf{{z}_{D}} \\right)})\\mathbf{\\hat{j}_{D}} + (\\frac{\\partial}{\\partial \\mathbf{{z}_{D}}} s{\\left(\\mathbf{{x}_{D}},\\mathbf{{y}_{D}},\\mathbf{{z}_{D}} \\right)})\\mathbf{\\hat{k}_{D}}$"
      ],
      "text/plain": [
       "(Derivative(s(D.x, D.y, D.z), D.x))*D.i + (Derivative(s(D.x, D.y, D.z), D.y))*D.j + (Derivative(s(D.x, D.y, D.z), D.z))*D.k"
      ]
     },
     "execution_count": 10,
     "metadata": {},
     "output_type": "execute_result"
    }
   ],
   "source": [
    "diff(s,D.x)*D.i + diff(s, D.y)*D.j +  diff(s,D.z)*D.k"
   ]
  },
  {
   "cell_type": "markdown",
   "metadata": {},
   "source": [
    "### Differential Operations for Scalars, Vectors, and Tensors in Cartesian Coordinates"
   ]
  },
  {
   "cell_type": "code",
   "execution_count": 11,
   "metadata": {},
   "outputs": [
    {
     "name": "stdout",
     "output_type": "stream",
     "text": [
      "(Derivative(Vx(C.x), C.x))*C.i + (Derivative(Vy(C.y), C.y))*C.j + (Derivative(Vz(C.z), C.z))*C.k\n"
     ]
    }
   ],
   "source": [
    "from sympy.vector import CoordSys3D,gradient,Del\n",
    "C = CoordSys3D('C')\n",
    "Vx = Function('Vx')\n",
    "Vy = Function('Vy')\n",
    "Vz = Function('Vz')\n",
    "V = Function('Vx')(C.x) + Function('Vy')(C.y) + Function('Vz')(C.z)\n",
    "delta_V = Del().gradient(V,doit=True)\n",
    "print(delta_V)"
   ]
  },
  {
   "cell_type": "code",
   "execution_count": 12,
   "metadata": {},
   "outputs": [
    {
     "data": {
      "image/png": "[encoded data removed]",
      "text/latex": [
       "$\\displaystyle (\\frac{d}{d \\mathbf{{x}_{C}}} \\operatorname{Vx}{\\left(\\mathbf{{x}_{C}} \\right)})\\mathbf{\\hat{i}_{C}} + (\\frac{d}{d \\mathbf{{y}_{C}}} \\operatorname{Vy}{\\left(\\mathbf{{y}_{C}} \\right)})\\mathbf{\\hat{j}_{C}} + (\\frac{d}{d \\mathbf{{z}_{C}}} \\operatorname{Vz}{\\left(\\mathbf{{z}_{C}} \\right)})\\mathbf{\\hat{k}_{C}}$"
      ],
      "text/plain": [
       "(Derivative(Vx(C.x), C.x))*C.i + (Derivative(Vy(C.y), C.y))*C.j + (Derivative(Vz(C.z), C.z))*C.k"
      ]
     },
     "execution_count": 12,
     "metadata": {},
     "output_type": "execute_result"
    }
   ],
   "source": [
    "(Derivative(Vx(C.x), C.x))*C.i + (Derivative(Vy(C.y), C.y))*C.j + (Derivative(Vz(C.z), C.z))*C.k"
   ]
  },
  {
   "cell_type": "code",
   "execution_count": 13,
   "metadata": {},
   "outputs": [],
   "source": [
    "V = Function('Vx')(C.x,C.y,C.z) + Function('Vy')(C.x,C.y,C.z) + Function('Vz')(C.x,C.y,C.z)"
   ]
  },
  {
   "cell_type": "code",
   "execution_count": 14,
   "metadata": {},
   "outputs": [],
   "source": [
    "DiffV = Del().gradient(V,doit=True)"
   ]
  },
  {
   "cell_type": "code",
   "execution_count": 15,
   "metadata": {},
   "outputs": [
    {
     "data": {
      "image/png": "[encoded data removed]",
      "text/latex": [
       "$\\displaystyle \\left( \\mathbf{\\hat{0}}, \\  \\mathbf{\\hat{k}_{C}}, \\  - \\mathbf{\\hat{j}_{C}}\\right)$"
      ],
      "text/plain": [
       "(0, C_k, (-1) C_j)"
      ]
     },
     "execution_count": 15,
     "metadata": {},
     "output_type": "execute_result"
    }
   ],
   "source": [
    "(C.i).cross(C.i), (C.i).cross(C.j),(C.i).cross(C.k)"
   ]
  },
  {
   "cell_type": "code",
   "execution_count": 16,
   "metadata": {},
   "outputs": [
    {
     "data": {
      "image/png": "[encoded data removed]",
      "text/latex": [
       "$\\displaystyle (\\frac{\\partial}{\\partial \\mathbf{{x}_{C}}} \\operatorname{Vx}{\\left(\\mathbf{{x}_{C}},\\mathbf{{y}_{C}},\\mathbf{{z}_{C}} \\right)} + \\frac{\\partial}{\\partial \\mathbf{{x}_{C}}} \\operatorname{Vy}{\\left(\\mathbf{{x}_{C}},\\mathbf{{y}_{C}},\\mathbf{{z}_{C}} \\right)} + \\frac{\\partial}{\\partial \\mathbf{{x}_{C}}} \\operatorname{Vz}{\\left(\\mathbf{{x}_{C}},\\mathbf{{y}_{C}},\\mathbf{{z}_{C}} \\right)})\\mathbf{\\hat{i}_{C}} + (\\frac{\\partial}{\\partial \\mathbf{{y}_{C}}} \\operatorname{Vx}{\\left(\\mathbf{{x}_{C}},\\mathbf{{y}_{C}},\\mathbf{{z}_{C}} \\right)} + \\frac{\\partial}{\\partial \\mathbf{{y}_{C}}} \\operatorname{Vy}{\\left(\\mathbf{{x}_{C}},\\mathbf{{y}_{C}},\\mathbf{{z}_{C}} \\right)} + \\frac{\\partial}{\\partial \\mathbf{{y}_{C}}} \\operatorname{Vz}{\\left(\\mathbf{{x}_{C}},\\mathbf{{y}_{C}},\\mathbf{{z}_{C}} \\right)})\\mathbf{\\hat{j}_{C}} + (\\frac{\\partial}{\\partial \\mathbf{{z}_{C}}} \\operatorname{Vx}{\\left(\\mathbf{{x}_{C}},\\mathbf{{y}_{C}},\\mathbf{{z}_{C}} \\right)} + \\frac{\\partial}{\\partial \\mathbf{{z}_{C}}} \\operatorname{Vy}{\\left(\\mathbf{{x}_{C}},\\mathbf{{y}_{C}},\\mathbf{{z}_{C}} \\right)} + \\frac{\\partial}{\\partial \\mathbf{{z}_{C}}} \\operatorname{Vz}{\\left(\\mathbf{{x}_{C}},\\mathbf{{y}_{C}},\\mathbf{{z}_{C}} \\right)})\\mathbf{\\hat{k}_{C}}$"
      ],
      "text/plain": [
       "(Derivative(Vx(C.x, C.y, C.z), C.x) + Derivative(Vy(C.x, C.y, C.z), C.x) + Derivative(Vz(C.x, C.y, C.z), C.x))*C.i + (Derivative(Vx(C.x, C.y, C.z), C.y) + Derivative(Vy(C.x, C.y, C.z), C.y) + Derivative(Vz(C.x, C.y, C.z), C.y))*C.j + (Derivative(Vx(C.x, C.y, C.z), C.z) + Derivative(Vy(C.x, C.y, C.z), C.z) + Derivative(Vz(C.x, C.y, C.z), C.z))*C.k"
      ]
     },
     "execution_count": 16,
     "metadata": {},
     "output_type": "execute_result"
    }
   ],
   "source": [
    "DiffV"
   ]
  },
  {
   "cell_type": "code",
   "execution_count": 17,
   "metadata": {},
   "outputs": [
    {
     "data": {
      "image/png": "[encoded data removed]",
      "text/latex": [
       "$\\displaystyle (\\frac{\\partial}{\\partial \\mathbf{{y}_{C}}} \\operatorname{Vx}{\\left(\\mathbf{{x}_{C}},\\mathbf{{y}_{C}},\\mathbf{{z}_{C}} \\right)} - \\frac{\\partial}{\\partial \\mathbf{{z}_{C}}} \\operatorname{Vx}{\\left(\\mathbf{{x}_{C}},\\mathbf{{y}_{C}},\\mathbf{{z}_{C}} \\right)} + \\frac{\\partial}{\\partial \\mathbf{{y}_{C}}} \\operatorname{Vy}{\\left(\\mathbf{{x}_{C}},\\mathbf{{y}_{C}},\\mathbf{{z}_{C}} \\right)} - \\frac{\\partial}{\\partial \\mathbf{{z}_{C}}} \\operatorname{Vy}{\\left(\\mathbf{{x}_{C}},\\mathbf{{y}_{C}},\\mathbf{{z}_{C}} \\right)} + \\frac{\\partial}{\\partial \\mathbf{{y}_{C}}} \\operatorname{Vz}{\\left(\\mathbf{{x}_{C}},\\mathbf{{y}_{C}},\\mathbf{{z}_{C}} \\right)} - \\frac{\\partial}{\\partial \\mathbf{{z}_{C}}} \\operatorname{Vz}{\\left(\\mathbf{{x}_{C}},\\mathbf{{y}_{C}},\\mathbf{{z}_{C}} \\right)})\\mathbf{\\hat{i}_{C}} + (- \\frac{\\partial}{\\partial \\mathbf{{x}_{C}}} \\operatorname{Vx}{\\left(\\mathbf{{x}_{C}},\\mathbf{{y}_{C}},\\mathbf{{z}_{C}} \\right)} + \\frac{\\partial}{\\partial \\mathbf{{z}_{C}}} \\operatorname{Vx}{\\left(\\mathbf{{x}_{C}},\\mathbf{{y}_{C}},\\mathbf{{z}_{C}} \\right)} - \\frac{\\partial}{\\partial \\mathbf{{x}_{C}}} \\operatorname{Vy}{\\left(\\mathbf{{x}_{C}},\\mathbf{{y}_{C}},\\mathbf{{z}_{C}} \\right)} + \\frac{\\partial}{\\partial \\mathbf{{z}_{C}}} \\operatorname{Vy}{\\left(\\mathbf{{x}_{C}},\\mathbf{{y}_{C}},\\mathbf{{z}_{C}} \\right)} - \\frac{\\partial}{\\partial \\mathbf{{x}_{C}}} \\operatorname{Vz}{\\left(\\mathbf{{x}_{C}},\\mathbf{{y}_{C}},\\mathbf{{z}_{C}} \\right)} + \\frac{\\partial}{\\partial \\mathbf{{z}_{C}}} \\operatorname{Vz}{\\left(\\mathbf{{x}_{C}},\\mathbf{{y}_{C}},\\mathbf{{z}_{C}} \\right)})\\mathbf{\\hat{j}_{C}} + (\\frac{\\partial}{\\partial \\mathbf{{x}_{C}}} \\operatorname{Vx}{\\left(\\mathbf{{x}_{C}},\\mathbf{{y}_{C}},\\mathbf{{z}_{C}} \\right)} - \\frac{\\partial}{\\partial \\mathbf{{y}_{C}}} \\operatorname{Vx}{\\left(\\mathbf{{x}_{C}},\\mathbf{{y}_{C}},\\mathbf{{z}_{C}} \\right)} + \\frac{\\partial}{\\partial \\mathbf{{x}_{C}}} \\operatorname{Vy}{\\left(\\mathbf{{x}_{C}},\\mathbf{{y}_{C}},\\mathbf{{z}_{C}} \\right)} - \\frac{\\partial}{\\partial \\mathbf{{y}_{C}}} \\operatorname{Vy}{\\left(\\mathbf{{x}_{C}},\\mathbf{{y}_{C}},\\mathbf{{z}_{C}} \\right)} + \\frac{\\partial}{\\partial \\mathbf{{x}_{C}}} \\operatorname{Vz}{\\left(\\mathbf{{x}_{C}},\\mathbf{{y}_{C}},\\mathbf{{z}_{C}} \\right)} - \\frac{\\partial}{\\partial \\mathbf{{y}_{C}}} \\operatorname{Vz}{\\left(\\mathbf{{x}_{C}},\\mathbf{{y}_{C}},\\mathbf{{z}_{C}} \\right)})\\mathbf{\\hat{k}_{C}}$"
      ],
      "text/plain": [
       "(Derivative(Vx(C.x, C.y, C.z), C.y) - Derivative(Vx(C.x, C.y, C.z), C.z) + Derivative(Vy(C.x, C.y, C.z), C.y) - Derivative(Vy(C.x, C.y, C.z), C.z) + Derivative(Vz(C.x, C.y, C.z), C.y) - Derivative(Vz(C.x, C.y, C.z), C.z))*C.i + (-Derivative(Vx(C.x, C.y, C.z), C.x) + Derivative(Vx(C.x, C.y, C.z), C.z) - Derivative(Vy(C.x, C.y, C.z), C.x) + Derivative(Vy(C.x, C.y, C.z), C.z) - Derivative(Vz(C.x, C.y, C.z), C.x) + Derivative(Vz(C.x, C.y, C.z), C.z))*C.j + (Derivative(Vx(C.x, C.y, C.z), C.x) - Derivative(Vx(C.x, C.y, C.z), C.y) + Derivative(Vy(C.x, C.y, C.z), C.x) - Derivative(Vy(C.x, C.y, C.z), C.y) + Derivative(Vz(C.x, C.y, C.z), C.x) - Derivative(Vz(C.x, C.y, C.z), C.y))*C.k"
      ]
     },
     "execution_count": 17,
     "metadata": {},
     "output_type": "execute_result"
    }
   ],
   "source": [
    "DiffV.cross(C.i) + DiffV.cross(C.j) + DiffV.cross(C.k)"
   ]
  },
  {
   "cell_type": "code",
   "execution_count": 18,
   "metadata": {},
   "outputs": [],
   "source": [
    "V1 = (Function('Vx')(C.x,C.y,C.z) + Function('Vy')(C.x,C.y,C.z) + Function('Vz')(C.x,C.y,C.z))*(C.i)"
   ]
  },
  {
   "cell_type": "code",
   "execution_count": 19,
   "metadata": {},
   "outputs": [
    {
     "data": {
      "image/png": "[encoded data removed]",
      "text/latex": [
       "$\\displaystyle (\\frac{\\partial}{\\partial \\mathbf{{z}_{C}}} \\operatorname{Vx}{\\left(\\mathbf{{x}_{C}},\\mathbf{{y}_{C}},\\mathbf{{z}_{C}} \\right)} + \\frac{\\partial}{\\partial \\mathbf{{z}_{C}}} \\operatorname{Vy}{\\left(\\mathbf{{x}_{C}},\\mathbf{{y}_{C}},\\mathbf{{z}_{C}} \\right)} + \\frac{\\partial}{\\partial \\mathbf{{z}_{C}}} \\operatorname{Vz}{\\left(\\mathbf{{x}_{C}},\\mathbf{{y}_{C}},\\mathbf{{z}_{C}} \\right)})\\mathbf{\\hat{j}_{C}} + (- \\frac{\\partial}{\\partial \\mathbf{{y}_{C}}} \\operatorname{Vx}{\\left(\\mathbf{{x}_{C}},\\mathbf{{y}_{C}},\\mathbf{{z}_{C}} \\right)} - \\frac{\\partial}{\\partial \\mathbf{{y}_{C}}} \\operatorname{Vy}{\\left(\\mathbf{{x}_{C}},\\mathbf{{y}_{C}},\\mathbf{{z}_{C}} \\right)} - \\frac{\\partial}{\\partial \\mathbf{{y}_{C}}} \\operatorname{Vz}{\\left(\\mathbf{{x}_{C}},\\mathbf{{y}_{C}},\\mathbf{{z}_{C}} \\right)})\\mathbf{\\hat{k}_{C}}$"
      ],
      "text/plain": [
       "(Derivative(Vx(C.x, C.y, C.z), C.z) + Derivative(Vy(C.x, C.y, C.z), C.z) + Derivative(Vz(C.x, C.y, C.z), C.z))*C.j + (-Derivative(Vx(C.x, C.y, C.z), C.y) - Derivative(Vy(C.x, C.y, C.z), C.y) - Derivative(Vz(C.x, C.y, C.z), C.y))*C.k"
      ]
     },
     "execution_count": 19,
     "metadata": {},
     "output_type": "execute_result"
    }
   ],
   "source": [
    "Del().cross(V1,doit=True)"
   ]
  },
  {
   "cell_type": "code",
   "execution_count": 20,
   "metadata": {},
   "outputs": [
    {
     "data": {
      "image/png": "[encoded data removed]",
      "text/latex": [
       "$\\displaystyle (- \\frac{\\partial}{\\partial \\mathbf{{z}_{C}}} \\operatorname{Vx}{\\left(\\mathbf{{x}_{C}},\\mathbf{{y}_{C}},\\mathbf{{z}_{C}} \\right)} - \\frac{\\partial}{\\partial \\mathbf{{z}_{C}}} \\operatorname{Vy}{\\left(\\mathbf{{x}_{C}},\\mathbf{{y}_{C}},\\mathbf{{z}_{C}} \\right)} - \\frac{\\partial}{\\partial \\mathbf{{z}_{C}}} \\operatorname{Vz}{\\left(\\mathbf{{x}_{C}},\\mathbf{{y}_{C}},\\mathbf{{z}_{C}} \\right)})\\mathbf{\\hat{i}_{C}} + (\\frac{\\partial}{\\partial \\mathbf{{x}_{C}}} \\operatorname{Vx}{\\left(\\mathbf{{x}_{C}},\\mathbf{{y}_{C}},\\mathbf{{z}_{C}} \\right)} + \\frac{\\partial}{\\partial \\mathbf{{x}_{C}}} \\operatorname{Vy}{\\left(\\mathbf{{x}_{C}},\\mathbf{{y}_{C}},\\mathbf{{z}_{C}} \\right)} + \\frac{\\partial}{\\partial \\mathbf{{x}_{C}}} \\operatorname{Vz}{\\left(\\mathbf{{x}_{C}},\\mathbf{{y}_{C}},\\mathbf{{z}_{C}} \\right)})\\mathbf{\\hat{k}_{C}}$"
      ],
      "text/plain": [
       "(-Derivative(Vx(C.x, C.y, C.z), C.z) - Derivative(Vy(C.x, C.y, C.z), C.z) - Derivative(Vz(C.x, C.y, C.z), C.z))*C.i + (Derivative(Vx(C.x, C.y, C.z), C.x) + Derivative(Vy(C.x, C.y, C.z), C.x) + Derivative(Vz(C.x, C.y, C.z), C.x))*C.k"
      ]
     },
     "execution_count": 20,
     "metadata": {},
     "output_type": "execute_result"
    }
   ],
   "source": [
    "V2 = (Function('Vx')(C.x,C.y,C.z) + Function('Vy')(C.x,C.y,C.z) + Function('Vz')(C.x,C.y,C.z))*(C.j)\n",
    "Del().cross(V2,doit=True)"
   ]
  },
  {
   "cell_type": "code",
   "execution_count": 21,
   "metadata": {},
   "outputs": [
    {
     "data": {
      "image/png": "[encoded data removed]",
      "text/latex": [
       "$\\displaystyle (\\frac{\\partial}{\\partial \\mathbf{{y}_{C}}} \\operatorname{Vx}{\\left(\\mathbf{{x}_{C}},\\mathbf{{y}_{C}},\\mathbf{{z}_{C}} \\right)} + \\frac{\\partial}{\\partial \\mathbf{{y}_{C}}} \\operatorname{Vy}{\\left(\\mathbf{{x}_{C}},\\mathbf{{y}_{C}},\\mathbf{{z}_{C}} \\right)} + \\frac{\\partial}{\\partial \\mathbf{{y}_{C}}} \\operatorname{Vz}{\\left(\\mathbf{{x}_{C}},\\mathbf{{y}_{C}},\\mathbf{{z}_{C}} \\right)})\\mathbf{\\hat{i}_{C}} + (- \\frac{\\partial}{\\partial \\mathbf{{x}_{C}}} \\operatorname{Vx}{\\left(\\mathbf{{x}_{C}},\\mathbf{{y}_{C}},\\mathbf{{z}_{C}} \\right)} - \\frac{\\partial}{\\partial \\mathbf{{x}_{C}}} \\operatorname{Vy}{\\left(\\mathbf{{x}_{C}},\\mathbf{{y}_{C}},\\mathbf{{z}_{C}} \\right)} - \\frac{\\partial}{\\partial \\mathbf{{x}_{C}}} \\operatorname{Vz}{\\left(\\mathbf{{x}_{C}},\\mathbf{{y}_{C}},\\mathbf{{z}_{C}} \\right)})\\mathbf{\\hat{j}_{C}}$"
      ],
      "text/plain": [
       "(Derivative(Vx(C.x, C.y, C.z), C.y) + Derivative(Vy(C.x, C.y, C.z), C.y) + Derivative(Vz(C.x, C.y, C.z), C.y))*C.i + (-Derivative(Vx(C.x, C.y, C.z), C.x) - Derivative(Vy(C.x, C.y, C.z), C.x) - Derivative(Vz(C.x, C.y, C.z), C.x))*C.j"
      ]
     },
     "execution_count": 21,
     "metadata": {},
     "output_type": "execute_result"
    }
   ],
   "source": [
    "V3 = (Function('Vx')(C.x,C.y,C.z) + Function('Vy')(C.x,C.y,C.z) + Function('Vz')(C.x,C.y,C.z))*(C.k)\n",
    "Del().cross(V3,doit=True)"
   ]
  },
  {
   "cell_type": "code",
   "execution_count": 22,
   "metadata": {},
   "outputs": [
    {
     "data": {
      "image/png": "[encoded data removed]",
      "text/latex": [
       "$\\displaystyle (\\frac{\\partial}{\\partial \\mathbf{{y}_{C}}} \\operatorname{Vx}{\\left(\\mathbf{{x}_{C}},\\mathbf{{y}_{C}},\\mathbf{{z}_{C}} \\right)} - \\frac{\\partial}{\\partial \\mathbf{{z}_{C}}} \\operatorname{Vx}{\\left(\\mathbf{{x}_{C}},\\mathbf{{y}_{C}},\\mathbf{{z}_{C}} \\right)} + \\frac{\\partial}{\\partial \\mathbf{{y}_{C}}} \\operatorname{Vy}{\\left(\\mathbf{{x}_{C}},\\mathbf{{y}_{C}},\\mathbf{{z}_{C}} \\right)} - \\frac{\\partial}{\\partial \\mathbf{{z}_{C}}} \\operatorname{Vy}{\\left(\\mathbf{{x}_{C}},\\mathbf{{y}_{C}},\\mathbf{{z}_{C}} \\right)} + \\frac{\\partial}{\\partial \\mathbf{{y}_{C}}} \\operatorname{Vz}{\\left(\\mathbf{{x}_{C}},\\mathbf{{y}_{C}},\\mathbf{{z}_{C}} \\right)} - \\frac{\\partial}{\\partial \\mathbf{{z}_{C}}} \\operatorname{Vz}{\\left(\\mathbf{{x}_{C}},\\mathbf{{y}_{C}},\\mathbf{{z}_{C}} \\right)})\\mathbf{\\hat{i}_{C}} + (- \\frac{\\partial}{\\partial \\mathbf{{x}_{C}}} \\operatorname{Vx}{\\left(\\mathbf{{x}_{C}},\\mathbf{{y}_{C}},\\mathbf{{z}_{C}} \\right)} + \\frac{\\partial}{\\partial \\mathbf{{z}_{C}}} \\operatorname{Vx}{\\left(\\mathbf{{x}_{C}},\\mathbf{{y}_{C}},\\mathbf{{z}_{C}} \\right)} - \\frac{\\partial}{\\partial \\mathbf{{x}_{C}}} \\operatorname{Vy}{\\left(\\mathbf{{x}_{C}},\\mathbf{{y}_{C}},\\mathbf{{z}_{C}} \\right)} + \\frac{\\partial}{\\partial \\mathbf{{z}_{C}}} \\operatorname{Vy}{\\left(\\mathbf{{x}_{C}},\\mathbf{{y}_{C}},\\mathbf{{z}_{C}} \\right)} - \\frac{\\partial}{\\partial \\mathbf{{x}_{C}}} \\operatorname{Vz}{\\left(\\mathbf{{x}_{C}},\\mathbf{{y}_{C}},\\mathbf{{z}_{C}} \\right)} + \\frac{\\partial}{\\partial \\mathbf{{z}_{C}}} \\operatorname{Vz}{\\left(\\mathbf{{x}_{C}},\\mathbf{{y}_{C}},\\mathbf{{z}_{C}} \\right)})\\mathbf{\\hat{j}_{C}} + (\\frac{\\partial}{\\partial \\mathbf{{x}_{C}}} \\operatorname{Vx}{\\left(\\mathbf{{x}_{C}},\\mathbf{{y}_{C}},\\mathbf{{z}_{C}} \\right)} - \\frac{\\partial}{\\partial \\mathbf{{y}_{C}}} \\operatorname{Vx}{\\left(\\mathbf{{x}_{C}},\\mathbf{{y}_{C}},\\mathbf{{z}_{C}} \\right)} + \\frac{\\partial}{\\partial \\mathbf{{x}_{C}}} \\operatorname{Vy}{\\left(\\mathbf{{x}_{C}},\\mathbf{{y}_{C}},\\mathbf{{z}_{C}} \\right)} - \\frac{\\partial}{\\partial \\mathbf{{y}_{C}}} \\operatorname{Vy}{\\left(\\mathbf{{x}_{C}},\\mathbf{{y}_{C}},\\mathbf{{z}_{C}} \\right)} + \\frac{\\partial}{\\partial \\mathbf{{x}_{C}}} \\operatorname{Vz}{\\left(\\mathbf{{x}_{C}},\\mathbf{{y}_{C}},\\mathbf{{z}_{C}} \\right)} - \\frac{\\partial}{\\partial \\mathbf{{y}_{C}}} \\operatorname{Vz}{\\left(\\mathbf{{x}_{C}},\\mathbf{{y}_{C}},\\mathbf{{z}_{C}} \\right)})\\mathbf{\\hat{k}_{C}}$"
      ],
      "text/plain": [
       "(Derivative(Vx(C.x, C.y, C.z), C.y) - Derivative(Vx(C.x, C.y, C.z), C.z) + Derivative(Vy(C.x, C.y, C.z), C.y) - Derivative(Vy(C.x, C.y, C.z), C.z) + Derivative(Vz(C.x, C.y, C.z), C.y) - Derivative(Vz(C.x, C.y, C.z), C.z))*C.i + (-Derivative(Vx(C.x, C.y, C.z), C.x) + Derivative(Vx(C.x, C.y, C.z), C.z) - Derivative(Vy(C.x, C.y, C.z), C.x) + Derivative(Vy(C.x, C.y, C.z), C.z) - Derivative(Vz(C.x, C.y, C.z), C.x) + Derivative(Vz(C.x, C.y, C.z), C.z))*C.j + (Derivative(Vx(C.x, C.y, C.z), C.x) - Derivative(Vx(C.x, C.y, C.z), C.y) + Derivative(Vy(C.x, C.y, C.z), C.x) - Derivative(Vy(C.x, C.y, C.z), C.y) + Derivative(Vz(C.x, C.y, C.z), C.x) - Derivative(Vz(C.x, C.y, C.z), C.y))*C.k"
      ]
     },
     "execution_count": 22,
     "metadata": {},
     "output_type": "execute_result"
    }
   ],
   "source": [
    "Del().cross(V1,doit=True) + Del().cross(V2,doit=True) + Del().cross(V3,doit=True)"
   ]
  },
  {
   "cell_type": "code",
   "execution_count": 23,
   "metadata": {},
   "outputs": [
    {
     "name": "stdout",
     "output_type": "stream",
     "text": [
      "Derivative(Vx(C.x, C.y, C.z), C.x) + Derivative(Vy(C.x, C.y, C.z), C.x) + Derivative(Vz(C.x, C.y, C.z), C.x)\n"
     ]
    }
   ],
   "source": [
    "from sympy.vector import CoordSys3D,gradient,Del\n",
    "C = CoordSys3D('C')\n",
    "Vx = Function('Vx')\n",
    "Vy = Function('Vy')\n",
    "Vz = Function('Vz')\n",
    "V = (Function('Vx')(C.x,C.y,C.z) + Function('Vy')(C.x,C.y,C.z) + Function('Vz')(C.x,C.y,C.z))*(C.i)\n",
    "delta_V = Del().dot(V,doit=True)\n",
    "print(delta_V)"
   ]
  },
  {
   "cell_type": "code",
   "execution_count": 24,
   "metadata": {},
   "outputs": [
    {
     "data": {
      "image/png": "[encoded data removed]",
      "text/latex": [
       "$\\displaystyle \\frac{\\partial}{\\partial \\mathbf{{x}_{C}}} \\operatorname{Vx}{\\left(\\mathbf{{x}_{C}},\\mathbf{{y}_{C}},\\mathbf{{z}_{C}} \\right)} + \\frac{\\partial}{\\partial \\mathbf{{y}_{C}}} \\operatorname{Vx}{\\left(\\mathbf{{x}_{C}},\\mathbf{{y}_{C}},\\mathbf{{z}_{C}} \\right)} + \\frac{\\partial}{\\partial \\mathbf{{z}_{C}}} \\operatorname{Vx}{\\left(\\mathbf{{x}_{C}},\\mathbf{{y}_{C}},\\mathbf{{z}_{C}} \\right)} + \\frac{\\partial}{\\partial \\mathbf{{x}_{C}}} \\operatorname{Vy}{\\left(\\mathbf{{x}_{C}},\\mathbf{{y}_{C}},\\mathbf{{z}_{C}} \\right)} + \\frac{\\partial}{\\partial \\mathbf{{y}_{C}}} \\operatorname{Vy}{\\left(\\mathbf{{x}_{C}},\\mathbf{{y}_{C}},\\mathbf{{z}_{C}} \\right)} + \\frac{\\partial}{\\partial \\mathbf{{z}_{C}}} \\operatorname{Vy}{\\left(\\mathbf{{x}_{C}},\\mathbf{{y}_{C}},\\mathbf{{z}_{C}} \\right)} + \\frac{\\partial}{\\partial \\mathbf{{x}_{C}}} \\operatorname{Vz}{\\left(\\mathbf{{x}_{C}},\\mathbf{{y}_{C}},\\mathbf{{z}_{C}} \\right)} + \\frac{\\partial}{\\partial \\mathbf{{y}_{C}}} \\operatorname{Vz}{\\left(\\mathbf{{x}_{C}},\\mathbf{{y}_{C}},\\mathbf{{z}_{C}} \\right)} + \\frac{\\partial}{\\partial \\mathbf{{z}_{C}}} \\operatorname{Vz}{\\left(\\mathbf{{x}_{C}},\\mathbf{{y}_{C}},\\mathbf{{z}_{C}} \\right)}$"
      ],
      "text/plain": [
       " ∂                         ∂                         ∂                        \n",
       "────(Vx(C_x, C_y, C_z)) + ────(Vx(C_x, C_y, C_z)) + ────(Vx(C_x, C_y, C_z)) + \n",
       "∂C_x                      ∂C_y                      ∂C_z                      \n",
       "\n",
       " ∂                         ∂                         ∂                        \n",
       "────(Vy(C_x, C_y, C_z)) + ────(Vy(C_x, C_y, C_z)) + ────(Vy(C_x, C_y, C_z)) + \n",
       "∂C_x                      ∂C_y                      ∂C_z                      \n",
       "\n",
       " ∂                         ∂                         ∂                     \n",
       "────(Vz(C_x, C_y, C_z)) + ────(Vz(C_x, C_y, C_z)) + ────(Vz(C_x, C_y, C_z))\n",
       "∂C_x                      ∂C_y                      ∂C_z                   "
      ]
     },
     "execution_count": 24,
     "metadata": {},
     "output_type": "execute_result"
    }
   ],
   "source": [
    "Derivative(Vx(C.x, C.y, C.z), C.x) + Derivative(Vx(C.x, C.y, C.z), C.y) + Derivative(Vx(C.x, C.y, C.z), C.z) + Derivative(Vy(C.x, C.y, C.z), C.x) + Derivative(Vy(C.x, C.y, C.z), C.y) + Derivative(Vy(C.x, C.y, C.z), C.z) + Derivative(Vz(C.x, C.y, C.z), C.x) + Derivative(Vz(C.x, C.y, C.z), C.y) + Derivative(Vz(C.x, C.y, C.z), C.z)"
   ]
  },
  {
   "cell_type": "markdown",
   "metadata": {},
   "source": [
    "Del().dot((Vx(C.x,C.y,C.z))*C.i, doit=True) + Del().dot((Vy(C.x,C.y,C.z))*C.j,doit=True) + Del().dot((Vz(C.x,C.y,C.z))*C.k,doit=True)"
   ]
  },
  {
   "cell_type": "code",
   "execution_count": 25,
   "metadata": {},
   "outputs": [
    {
     "data": {
      "image/png": "[encoded data removed]",
      "text/latex": [
       "$\\displaystyle (- \\frac{\\partial}{\\partial \\mathbf{{z}_{C}}} \\operatorname{Vy}{\\left(\\mathbf{{x}_{C}},\\mathbf{{y}_{C}},\\mathbf{{z}_{C}} \\right)} + \\frac{\\partial}{\\partial \\mathbf{{y}_{C}}} \\operatorname{Vz}{\\left(\\mathbf{{x}_{C}},\\mathbf{{y}_{C}},\\mathbf{{z}_{C}} \\right)})\\mathbf{\\hat{i}_{C}} + (\\frac{\\partial}{\\partial \\mathbf{{z}_{C}}} \\operatorname{Vx}{\\left(\\mathbf{{x}_{C}},\\mathbf{{y}_{C}},\\mathbf{{z}_{C}} \\right)} - \\frac{\\partial}{\\partial \\mathbf{{x}_{C}}} \\operatorname{Vz}{\\left(\\mathbf{{x}_{C}},\\mathbf{{y}_{C}},\\mathbf{{z}_{C}} \\right)})\\mathbf{\\hat{j}_{C}} + (- \\frac{\\partial}{\\partial \\mathbf{{y}_{C}}} \\operatorname{Vx}{\\left(\\mathbf{{x}_{C}},\\mathbf{{y}_{C}},\\mathbf{{z}_{C}} \\right)} + \\frac{\\partial}{\\partial \\mathbf{{x}_{C}}} \\operatorname{Vy}{\\left(\\mathbf{{x}_{C}},\\mathbf{{y}_{C}},\\mathbf{{z}_{C}} \\right)})\\mathbf{\\hat{k}_{C}}$"
      ],
      "text/plain": [
       "(-Derivative(Vy(C.x, C.y, C.z), C.z) + Derivative(Vz(C.x, C.y, C.z), C.y))*C.i + (Derivative(Vx(C.x, C.y, C.z), C.z) - Derivative(Vz(C.x, C.y, C.z), C.x))*C.j + (-Derivative(Vx(C.x, C.y, C.z), C.y) + Derivative(Vy(C.x, C.y, C.z), C.x))*C.k"
      ]
     },
     "execution_count": 25,
     "metadata": {},
     "output_type": "execute_result"
    }
   ],
   "source": [
    "Del().cross((Vx(C.x,C.y,C.z))*C.i, doit=True) + Del().cross((Vy(C.x,C.y,C.z))*C.j,doit=True) + Del().cross((Vz(C.x,C.y,C.z))*C.k,doit=True)"
   ]
  },
  {
   "cell_type": "markdown",
   "metadata": {},
   "source": [
    "# Transport Phenomena"
   ]
  },
  {
   "cell_type": "markdown",
   "metadata": {},
   "source": [
    "### Algerbraic Operations for vectors and tensors in cartesian coordinates"
   ]
  },
  {
   "cell_type": "code",
   "execution_count": 26,
   "metadata": {},
   "outputs": [
    {
     "name": "stdout",
     "output_type": "stream",
     "text": [
      "IPython console for SymPy 1.4 (Python 3.7.4-64-bit) (ground types: python)\n",
      "\n",
      "These commands were executed:\n",
      ">>> from __future__ import division\n",
      ">>> from sympy import *\n",
      ">>> x, y, z, t = symbols('x y z t')\n",
      ">>> k, m, n = symbols('k m n', integer=True)\n",
      ">>> f, g, h = symbols('f g h', cls=Function)\n",
      ">>> init_printing()\n",
      "\n",
      "Documentation can be found at https://docs.sympy.org/1.4/\n",
      "\n"
     ]
    }
   ],
   "source": [
    "from sympy import *\n",
    "init_session()"
   ]
  },
  {
   "cell_type": "code",
   "execution_count": 27,
   "metadata": {},
   "outputs": [],
   "source": [
    "from sympy.vector import CoordSys3D\n",
    "C = CoordSys3D(\"C\")\n",
    "V, W = symbols(\"V W\")\n",
    "Vx,Vy,Vz = symbols('V(x:z)')\n",
    "Wx,Wy,Wz = symbols(\"W(x:z)\")\n",
    "V = Vx*C.i+Vy*C.j+Vz*C.k\n",
    "W = Wx*C.i+Wy*C.j+Wz*C.k"
   ]
  },
  {
   "cell_type": "code",
   "execution_count": 28,
   "metadata": {},
   "outputs": [
    {
     "data": {
      "image/png": "[encoded data removed]",
      "text/latex": [
       "$\\displaystyle Vx Wx + Vy Wy + Vz Wz$"
      ],
      "text/plain": [
       "Vx⋅Wx + Vy⋅Wy + Vz⋅Wz"
      ]
     },
     "execution_count": 28,
     "metadata": {},
     "output_type": "execute_result"
    }
   ],
   "source": [
    "V.dot(W)"
   ]
  },
  {
   "cell_type": "code",
   "execution_count": 29,
   "metadata": {},
   "outputs": [
    {
     "data": {
      "image/png": "[encoded data removed]",
      "text/latex": [
       "$\\displaystyle Vx Wx + Vy Wy + Vz Wz$"
      ],
      "text/plain": [
       "Vx⋅Wx + Vy⋅Wy + Vz⋅Wz"
      ]
     },
     "execution_count": 29,
     "metadata": {},
     "output_type": "execute_result"
    }
   ],
   "source": [
    "W.dot(V)"
   ]
  },
  {
   "cell_type": "code",
   "execution_count": 30,
   "metadata": {},
   "outputs": [
    {
     "data": {
      "text/plain": [
       "True"
      ]
     },
     "execution_count": 30,
     "metadata": {},
     "output_type": "execute_result"
    }
   ],
   "source": [
    "W.dot(V) == V.dot(W)"
   ]
  },
  {
   "cell_type": "code",
   "execution_count": 31,
   "metadata": {},
   "outputs": [
    {
     "data": {
      "image/png": "[encoded data removed]",
      "text/latex": [
       "$\\displaystyle (Vy Wz - Vz Wy)\\mathbf{\\hat{i}_{C}} + (- Vx Wz + Vz Wx)\\mathbf{\\hat{j}_{C}} + (Vx Wy - Vy Wx)\\mathbf{\\hat{k}_{C}}$"
      ],
      "text/plain": [
       "(Vy*Wz - Vz*Wy)*C.i + (-Vx*Wz + Vz*Wx)*C.j + (Vx*Wy - Vy*Wx)*C.k"
      ]
     },
     "execution_count": 31,
     "metadata": {},
     "output_type": "execute_result"
    }
   ],
   "source": [
    "V.cross(W)"
   ]
  },
  {
   "cell_type": "code",
   "execution_count": 32,
   "metadata": {},
   "outputs": [
    {
     "data": {
      "image/png": "[encoded data removed]",
      "text/latex": [
       "$\\displaystyle \\left( Vy Wz - Vz Wy, \\  - Vx Wz + Vz Wx, \\  Vx Wy - Vy Wx\\right)$"
      ],
      "text/plain": [
       "(Vy⋅Wz - Vz⋅Wy, -Vx⋅Wz + Vz⋅Wx, Vx⋅Wy - Vy⋅Wx)"
      ]
     },
     "execution_count": 32,
     "metadata": {},
     "output_type": "execute_result"
    }
   ],
   "source": [
    "(V.cross(W)).dot(C.i), (V.cross(W)).dot(C.j), (V.cross(W)).dot(C.k)"
   ]
  },
  {
   "cell_type": "code",
   "execution_count": 33,
   "metadata": {},
   "outputs": [
    {
     "data": {
      "image/png": "[encoded data removed]",
      "text/latex": [
       "$\\displaystyle \\left( - Vy Wz + Vz Wy, \\  Vx Wz - Vz Wx, \\  - Vx Wy + Vy Wx\\right)$"
      ],
      "text/plain": [
       "(-Vy⋅Wz + Vz⋅Wy, Vx⋅Wz - Vz⋅Wx, -Vx⋅Wy + Vy⋅Wx)"
      ]
     },
     "execution_count": 33,
     "metadata": {},
     "output_type": "execute_result"
    }
   ],
   "source": [
    "(W.cross(V)).dot(C.i), (W.cross(V)).dot(C.j), (W.cross(V)).dot(C.k)"
   ]
  },
  {
   "cell_type": "code",
   "execution_count": 34,
   "metadata": {},
   "outputs": [
    {
     "data": {
      "text/plain": [
       "True"
      ]
     },
     "execution_count": 34,
     "metadata": {},
     "output_type": "execute_result"
    }
   ],
   "source": [
    "((V.cross(W)).dot(C.i), (V.cross(W)).dot(C.j), (V.cross(W)).dot(C.k)) == (-(W.cross(V)).dot(C.i), -(W.cross(V)).dot(C.j), -(W.cross(V)).dot(C.k))"
   ]
  },
  {
   "cell_type": "code",
   "execution_count": 35,
   "metadata": {},
   "outputs": [],
   "source": [
    "𝑇𝑥𝑥, 𝑇𝑥𝑦, 𝑇𝑥𝑧 = symbols(\"Tx(x:z)\")\n",
    "𝑇𝑦𝑥, 𝑇𝑦𝑦, 𝑇𝑦𝑧 = symbols(\"Ty(x:z)\")\n",
    "𝑇𝑧𝑥, 𝑇𝑧𝑦, 𝑇𝑧𝑧 = symbols(\"Tz(x:z)\")"
   ]
  },
  {
   "cell_type": "code",
   "execution_count": 36,
   "metadata": {},
   "outputs": [],
   "source": [
    "𝑇𝑥𝑥, 𝑇𝑥𝑦, 𝑇𝑥𝑧, 𝑇𝑦𝑥, 𝑇𝑦𝑦, 𝑇𝑦𝑧, 𝑇𝑧𝑥, 𝑇𝑧𝑦, 𝑇𝑧𝑧 = symbols(\"Tx(x:z), Ty(x:z), Tz(x:z)\")"
   ]
  },
  {
   "cell_type": "code",
   "execution_count": 37,
   "metadata": {},
   "outputs": [],
   "source": [
    "T = symbols(\"T\")\n",
    "T = Matrix([[𝑇𝑥𝑥, 𝑇𝑥𝑦, 𝑇𝑥𝑧],[𝑇𝑦𝑥, 𝑇𝑦𝑦, 𝑇𝑦𝑧],[𝑇𝑧𝑥, 𝑇𝑧𝑦, 𝑇𝑧𝑧]])"
   ]
  },
  {
   "cell_type": "code",
   "execution_count": 38,
   "metadata": {},
   "outputs": [
    {
     "data": {
      "text/latex": [
       "$\\displaystyle \\left[\\begin{matrix}Vx\\\\Vy\\\\Vz\\end{matrix}\\right]$"
      ],
      "text/plain": [
       "⎡Vx⎤\n",
       "⎢  ⎥\n",
       "⎢Vy⎥\n",
       "⎢  ⎥\n",
       "⎣Vz⎦"
      ]
     },
     "execution_count": 38,
     "metadata": {},
     "output_type": "execute_result"
    }
   ],
   "source": [
    "V.to_matrix(C)"
   ]
  },
  {
   "cell_type": "code",
   "execution_count": 39,
   "metadata": {},
   "outputs": [
    {
     "data": {
      "text/plain": [
       "True"
      ]
     },
     "execution_count": 39,
     "metadata": {},
     "output_type": "execute_result"
    }
   ],
   "source": [
    "T*(V.to_matrix(C)) == T*V.to_matrix(C)"
   ]
  },
  {
   "cell_type": "code",
   "execution_count": 40,
   "metadata": {},
   "outputs": [
    {
     "data": {
      "text/latex": [
       "$\\displaystyle \\left( \\left[\\begin{matrix}Txx Vx + Txy Vy + Txz Vz\\end{matrix}\\right], \\  \\left[\\begin{matrix}Tyx Vx + Tyy Vy + Tyz Vz\\end{matrix}\\right], \\  \\left[\\begin{matrix}Tzx Vx + Tzy Vy + Tzz Vz\\end{matrix}\\right]\\right)$"
      ],
      "text/plain": [
       "([Txx⋅Vx + Txy⋅Vy + Txz⋅Vz], [Tyx⋅Vx + Tyy⋅Vy + Tyz⋅Vz], [Tzx⋅Vx + Tzy⋅Vy + Tz\n",
       "z⋅Vz])"
      ]
     },
     "execution_count": 40,
     "metadata": {},
     "output_type": "execute_result"
    }
   ],
   "source": [
    "(T*V.to_matrix(C)).row(0), (T*V.to_matrix(C)).row(1), (T*V.to_matrix(C)).row(2)"
   ]
  },
  {
   "cell_type": "code",
   "execution_count": 41,
   "metadata": {},
   "outputs": [
    {
     "data": {
      "text/latex": [
       "$\\displaystyle \\left[\\begin{matrix}Txx Vx + Txy Vy + Txz Vz\\\\Tyx Vx + Tyy Vy + Tyz Vz\\\\Tzx Vx + Tzy Vy + Tzz Vz\\end{matrix}\\right]$"
      ],
      "text/plain": [
       "⎡Txx⋅Vx + Txy⋅Vy + Txz⋅Vz⎤\n",
       "⎢                        ⎥\n",
       "⎢Tyx⋅Vx + Tyy⋅Vy + Tyz⋅Vz⎥\n",
       "⎢                        ⎥\n",
       "⎣Tzx⋅Vx + Tzy⋅Vy + Tzz⋅Vz⎦"
      ]
     },
     "execution_count": 41,
     "metadata": {},
     "output_type": "execute_result"
    }
   ],
   "source": [
    "T*V.to_matrix(C)"
   ]
  },
  {
   "cell_type": "code",
   "execution_count": 42,
   "metadata": {},
   "outputs": [
    {
     "data": {
      "text/latex": [
       "$\\displaystyle \\left( \\left[\\begin{matrix}Vx\\\\Vy\\\\Vz\\end{matrix}\\right], \\  \\left[\\begin{matrix}Txx & Txy & Txz\\\\Tyx & Tyy & Tyz\\\\Tzx & Tzy & Tzz\\end{matrix}\\right]\\right)$"
      ],
      "text/plain": [
       "⎛⎡Vx⎤  ⎡Txx  Txy  Txz⎤⎞\n",
       "⎜⎢  ⎥  ⎢             ⎥⎟\n",
       "⎜⎢Vy⎥, ⎢Tyx  Tyy  Tyz⎥⎟\n",
       "⎜⎢  ⎥  ⎢             ⎥⎟\n",
       "⎝⎣Vz⎦  ⎣Tzx  Tzy  Tzz⎦⎠"
      ]
     },
     "execution_count": 42,
     "metadata": {},
     "output_type": "execute_result"
    }
   ],
   "source": [
    "V.to_matrix(C),T"
   ]
  },
  {
   "cell_type": "code",
   "execution_count": 43,
   "metadata": {},
   "outputs": [
    {
     "data": {
      "text/latex": [
       "$\\displaystyle \\left( \\left[\\begin{matrix}Txx Vx + Tyx Vy + Tzx Vz\\end{matrix}\\right], \\  \\left[\\begin{matrix}Txy Vx + Tyy Vy + Tzy Vz\\end{matrix}\\right], \\  \\left[\\begin{matrix}Txz Vx + Tyz Vy + Tzz Vz\\end{matrix}\\right]\\right)$"
      ],
      "text/plain": [
       "([Txx⋅Vx + Tyx⋅Vy + Tzx⋅Vz], [Txy⋅Vx + Tyy⋅Vy + Tzy⋅Vz], [Txz⋅Vx + Tyz⋅Vy + Tz\n",
       "z⋅Vz])"
      ]
     },
     "execution_count": 43,
     "metadata": {},
     "output_type": "execute_result"
    }
   ],
   "source": [
    "(V.to_matrix(C)).transpose()*T.col(0), (V.to_matrix(C)).transpose()*T.col(1), (V.to_matrix(C)).transpose()*T.col(2)"
   ]
  },
  {
   "cell_type": "markdown",
   "metadata": {},
   "source": [
    "Note: The above operations may be generalized to cylindrical coordinates by replacing (x,y,z) by (r,theta,z), and to replacing (x, y,z) by (r, theta,phi). "
   ]
  },
  {
   "cell_type": "code",
   "execution_count": 44,
   "metadata": {},
   "outputs": [],
   "source": [
    "@vectorize(0,1)\n",
    "def vdiff(f,y):\n",
    "    return diff(f,y)"
   ]
  },
  {
   "cell_type": "code",
   "execution_count": 45,
   "metadata": {},
   "outputs": [
    {
     "data": {
      "image/png": "[encoded data removed]",
      "text/latex": [
       "$\\displaystyle \\left[ \\frac{\\partial}{\\partial x} s{\\left(x,y,z \\right)}, \\  \\frac{\\partial}{\\partial y} s{\\left(x,y,z \\right)}, \\  \\frac{\\partial}{\\partial z} s{\\left(x,y,z \\right)}\\right]$"
      ],
      "text/plain": [
       "⎡∂               ∂               ∂             ⎤\n",
       "⎢──(s(x, y, z)), ──(s(x, y, z)), ──(s(x, y, z))⎥\n",
       "⎣∂x              ∂y              ∂z            ⎦"
      ]
     },
     "execution_count": 45,
     "metadata": {},
     "output_type": "execute_result"
    }
   ],
   "source": [
    "s = symbols(\"s\",cls=Function)\n",
    "vdiff(s(x,y,z),[x,y,z])"
   ]
  },
  {
   "cell_type": "markdown",
   "metadata": {},
   "source": [
    "OR"
   ]
  },
  {
   "cell_type": "code",
   "execution_count": 46,
   "metadata": {},
   "outputs": [],
   "source": [
    "s = (Function('s')(C.x,C.y,C.z))"
   ]
  },
  {
   "cell_type": "code",
   "execution_count": 47,
   "metadata": {},
   "outputs": [
    {
     "data": {
      "image/png": "[encoded data removed]",
      "text/latex": [
       "$\\displaystyle \\left( \\frac{\\partial}{\\partial \\mathbf{{x}_{C}}} s{\\left(\\mathbf{{x}_{C}},\\mathbf{{y}_{C}},\\mathbf{{z}_{C}} \\right)}, \\  \\frac{\\partial}{\\partial \\mathbf{{y}_{C}}} s{\\left(\\mathbf{{x}_{C}},\\mathbf{{y}_{C}},\\mathbf{{z}_{C}} \\right)}, \\  \\frac{\\partial}{\\partial \\mathbf{{z}_{C}}} s{\\left(\\mathbf{{x}_{C}},\\mathbf{{y}_{C}},\\mathbf{{z}_{C}} \\right)}\\right)$"
      ],
      "text/plain": [
       "⎛ ∂                       ∂                       ∂                    ⎞\n",
       "⎜────(s(C_x, C_y, C_z)), ────(s(C_x, C_y, C_z)), ────(s(C_x, C_y, C_z))⎟\n",
       "⎝∂C_x                    ∂C_y                    ∂C_z                  ⎠"
      ]
     },
     "execution_count": 47,
     "metadata": {},
     "output_type": "execute_result"
    }
   ],
   "source": [
    "Del().dot(s*(C.i),doit=True), Del().dot(s*(C.j),doit=True), Del().dot(s*(C.k),doit=True)"
   ]
  },
  {
   "cell_type": "code",
   "execution_count": 49,
   "metadata": {},
   "outputs": [
    {
     "name": "stdout",
     "output_type": "stream",
     "text": [
      "Derivative(vx(C.x, C.y, C.z), C.x) + Derivative(vy(C.x, C.y, C.z), C.y) + Derivative(vz(C.x, C.y, C.z), C.z)\n"
     ]
    }
   ],
   "source": [
    "from sympy.vector import CoordSys3D,gradient,Del\n",
    "C = CoordSys3D('C')\n",
    "vx = Function('vx')\n",
    "vy = Function('vy')\n",
    "vz = Function('vz')\n",
    "v = Function('vx')(C.x,C.y,C.z)*(C.i) + Function('vy')(C.x,C.y,C.z)*(C.j) + Function('vz')(C.x,C.y,C.z)*(C.k)\n",
    "delta_v = Del().dot(v,doit=True)\n",
    "print(delta_v)"
   ]
  },
  {
   "cell_type": "code",
   "execution_count": 50,
   "metadata": {},
   "outputs": [
    {
     "data": {
      "image/png": "[encoded data removed]",
      "text/latex": [
       "$\\displaystyle (- \\frac{\\partial}{\\partial \\mathbf{{z}_{C}}} \\operatorname{vy}{\\left(\\mathbf{{x}_{C}},\\mathbf{{y}_{C}},\\mathbf{{z}_{C}} \\right)} + \\frac{\\partial}{\\partial \\mathbf{{y}_{C}}} \\operatorname{vz}{\\left(\\mathbf{{x}_{C}},\\mathbf{{y}_{C}},\\mathbf{{z}_{C}} \\right)})\\mathbf{\\hat{i}_{C}} + (\\frac{\\partial}{\\partial \\mathbf{{z}_{C}}} \\operatorname{vx}{\\left(\\mathbf{{x}_{C}},\\mathbf{{y}_{C}},\\mathbf{{z}_{C}} \\right)} - \\frac{\\partial}{\\partial \\mathbf{{x}_{C}}} \\operatorname{vz}{\\left(\\mathbf{{x}_{C}},\\mathbf{{y}_{C}},\\mathbf{{z}_{C}} \\right)})\\mathbf{\\hat{j}_{C}} + (- \\frac{\\partial}{\\partial \\mathbf{{y}_{C}}} \\operatorname{vx}{\\left(\\mathbf{{x}_{C}},\\mathbf{{y}_{C}},\\mathbf{{z}_{C}} \\right)} + \\frac{\\partial}{\\partial \\mathbf{{x}_{C}}} \\operatorname{vy}{\\left(\\mathbf{{x}_{C}},\\mathbf{{y}_{C}},\\mathbf{{z}_{C}} \\right)})\\mathbf{\\hat{k}_{C}}$"
      ],
      "text/plain": [
       "(-Derivative(vy(C.x, C.y, C.z), C.z) + Derivative(vz(C.x, C.y, C.z), C.y))*C.i + (Derivative(vx(C.x, C.y, C.z), C.z) - Derivative(vz(C.x, C.y, C.z), C.x))*C.j + (-Derivative(vx(C.x, C.y, C.z), C.y) + Derivative(vy(C.x, C.y, C.z), C.x))*C.k"
      ]
     },
     "execution_count": 50,
     "metadata": {},
     "output_type": "execute_result"
    }
   ],
   "source": [
    "Del().cross((vx(C.x,C.y,C.z))*C.i, doit=True) + Del().cross((vy(C.x,C.y,C.z))*C.j,doit=True) + Del().cross((vz(C.x,C.y,C.z))*C.k,doit=True)"
   ]
  },
  {
   "cell_type": "code",
   "execution_count": 51,
   "metadata": {},
   "outputs": [
    {
     "data": {
      "image/png": "[encoded data removed]",
      "text/latex": [
       "$\\displaystyle \\frac{\\partial}{\\partial \\mathbf{{x}_{C}}} \\operatorname{vx}{\\left(\\mathbf{{x}_{C}},\\mathbf{{y}_{C}},\\mathbf{{z}_{C}} \\right)} + \\frac{\\partial}{\\partial \\mathbf{{y}_{C}}} \\operatorname{vy}{\\left(\\mathbf{{x}_{C}},\\mathbf{{y}_{C}},\\mathbf{{z}_{C}} \\right)} + \\frac{\\partial}{\\partial \\mathbf{{z}_{C}}} \\operatorname{vz}{\\left(\\mathbf{{x}_{C}},\\mathbf{{y}_{C}},\\mathbf{{z}_{C}} \\right)}$"
      ],
      "text/plain": [
       " ∂                         ∂                         ∂                     \n",
       "────(vx(C_x, C_y, C_z)) + ────(vy(C_x, C_y, C_z)) + ────(vz(C_x, C_y, C_z))\n",
       "∂C_x                      ∂C_y                      ∂C_z                   "
      ]
     },
     "execution_count": 51,
     "metadata": {},
     "output_type": "execute_result"
    }
   ],
   "source": [
    "Del().dot((vx(C.x,C.y,C.z))*C.i, doit=True) + Del().dot((vy(C.x,C.y,C.z))*C.j, doit=True) + Del().dot((vz(C.x,C.y,C.z))*C.k, doit=True)"
   ]
  },
  {
   "cell_type": "code",
   "execution_count": 52,
   "metadata": {},
   "outputs": [],
   "source": [
    "v = (Function('vx')(C.x,C.y,C.z)*(C.i) + Function('vy')(C.x,C.y,C.z)*(C.j) + Function('vz')(C.x,C.y,C.z)*(C.k))"
   ]
  },
  {
   "cell_type": "code",
   "execution_count": 53,
   "metadata": {},
   "outputs": [
    {
     "data": {
      "image/png": "[encoded data removed]",
      "text/latex": [
       "$\\displaystyle \\frac{\\partial}{\\partial \\mathbf{{x}_{C}}} \\operatorname{vx}{\\left(\\mathbf{{x}_{C}},\\mathbf{{y}_{C}},\\mathbf{{z}_{C}} \\right)} + \\frac{\\partial}{\\partial \\mathbf{{y}_{C}}} \\operatorname{vy}{\\left(\\mathbf{{x}_{C}},\\mathbf{{y}_{C}},\\mathbf{{z}_{C}} \\right)} + \\frac{\\partial}{\\partial \\mathbf{{z}_{C}}} \\operatorname{vz}{\\left(\\mathbf{{x}_{C}},\\mathbf{{y}_{C}},\\mathbf{{z}_{C}} \\right)}$"
      ],
      "text/plain": [
       " ∂                         ∂                         ∂                     \n",
       "────(vx(C_x, C_y, C_z)) + ────(vy(C_x, C_y, C_z)) + ────(vz(C_x, C_y, C_z))\n",
       "∂C_x                      ∂C_y                      ∂C_z                   "
      ]
     },
     "execution_count": 53,
     "metadata": {},
     "output_type": "execute_result"
    }
   ],
   "source": [
    "(Del() & v).doit() # Scalar"
   ]
  },
  {
   "cell_type": "code",
   "execution_count": 54,
   "metadata": {},
   "outputs": [],
   "source": [
    "delta_S = Del().dot(s*(C.i),doit=True)*(C.i) + Del().dot(s*(C.j),doit=True)*(C.j) + Del().dot(s*(C.k),doit=True)*(C.k)"
   ]
  },
  {
   "cell_type": "code",
   "execution_count": 55,
   "metadata": {},
   "outputs": [
    {
     "data": {
      "image/png": "[encoded data removed]",
      "text/latex": [
       "$\\displaystyle \\operatorname{vx}{\\left(\\mathbf{{x}_{C}},\\mathbf{{y}_{C}},\\mathbf{{z}_{C}} \\right)} \\frac{\\partial}{\\partial \\mathbf{{x}_{C}}} s{\\left(\\mathbf{{x}_{C}},\\mathbf{{y}_{C}},\\mathbf{{z}_{C}} \\right)} + \\operatorname{vy}{\\left(\\mathbf{{x}_{C}},\\mathbf{{y}_{C}},\\mathbf{{z}_{C}} \\right)} \\frac{\\partial}{\\partial \\mathbf{{y}_{C}}} s{\\left(\\mathbf{{x}_{C}},\\mathbf{{y}_{C}},\\mathbf{{z}_{C}} \\right)} + \\operatorname{vz}{\\left(\\mathbf{{x}_{C}},\\mathbf{{y}_{C}},\\mathbf{{z}_{C}} \\right)} \\frac{\\partial}{\\partial \\mathbf{{z}_{C}}} s{\\left(\\mathbf{{x}_{C}},\\mathbf{{y}_{C}},\\mathbf{{z}_{C}} \\right)}$"
      ],
      "text/plain": [
       "                   ∂                                          ∂               \n",
       "vx(C_x, C_y, C_z)⋅────(s(C_x, C_y, C_z)) + vy(C_x, C_y, C_z)⋅────(s(C_x, C_y, \n",
       "                  ∂C_x                                       ∂C_y             \n",
       "\n",
       "                           ∂                    \n",
       "C_z)) + vz(C_x, C_y, C_z)⋅────(s(C_x, C_y, C_z))\n",
       "                          ∂C_z                  "
      ]
     },
     "execution_count": 55,
     "metadata": {},
     "output_type": "execute_result"
    }
   ],
   "source": [
    "delta_S.dot(v)"
   ]
  },
  {
   "cell_type": "code",
   "execution_count": 56,
   "metadata": {},
   "outputs": [
    {
     "data": {
      "image/png": "[encoded data removed]",
      "text/latex": [
       "$\\displaystyle \\frac{\\partial^{2}}{\\partial \\mathbf{{x}_{C}}^{2}} s{\\left(\\mathbf{{x}_{C}},\\mathbf{{y}_{C}},\\mathbf{{z}_{C}} \\right)} + \\frac{\\partial^{2}}{\\partial \\mathbf{{y}_{C}}^{2}} s{\\left(\\mathbf{{x}_{C}},\\mathbf{{y}_{C}},\\mathbf{{z}_{C}} \\right)} + \\frac{\\partial^{2}}{\\partial \\mathbf{{z}_{C}}^{2}} s{\\left(\\mathbf{{x}_{C}},\\mathbf{{y}_{C}},\\mathbf{{z}_{C}} \\right)}$"
      ],
      "text/plain": [
       "   2                         2                         2                   \n",
       "  ∂                         ∂                         ∂                    \n",
       "─────(s(C_x, C_y, C_z)) + ─────(s(C_x, C_y, C_z)) + ─────(s(C_x, C_y, C_z))\n",
       "    2                         2                         2                  \n",
       "∂C_x                      ∂C_y                      ∂C_z                   "
      ]
     },
     "execution_count": 56,
     "metadata": {},
     "output_type": "execute_result"
    }
   ],
   "source": [
    "(Del() & delta_S).doit()"
   ]
  },
  {
   "cell_type": "code",
   "execution_count": 57,
   "metadata": {},
   "outputs": [],
   "source": [
    "delta_V = diff(v.dot(C.i),C.x)*(C.i) + diff(v.dot(C.j),C.y)*(C.j) + diff(v.dot(C.i),C.z)*(C.k)"
   ]
  },
  {
   "cell_type": "code",
   "execution_count": 61,
   "metadata": {},
   "outputs": [
    {
     "data": {
      "image/png": "[encoded data removed]",
      "text/latex": [
       "$\\displaystyle \\frac{\\partial^{2}}{\\partial \\mathbf{{x}_{C}}^{2}} \\operatorname{vx}{\\left(\\mathbf{{x}_{C}},\\mathbf{{y}_{C}},\\mathbf{{z}_{C}} \\right)}$"
      ],
      "text/plain": [
       "   2                    \n",
       "  ∂                     \n",
       "─────(vx(C_x, C_y, C_z))\n",
       "    2                   \n",
       "∂C_x                    "
      ]
     },
     "execution_count": 61,
     "metadata": {},
     "output_type": "execute_result"
    }
   ],
   "source": [
    "gradient(gradient(vx(C.x,C.y,C.z), coord_sys=C).dot(C.i)).dot(C.i)"
   ]
  },
  {
   "cell_type": "code",
   "execution_count": 59,
   "metadata": {},
   "outputs": [
    {
     "data": {
      "image/png": "[encoded data removed]",
      "text/latex": [
       "$\\displaystyle \\frac{\\partial^{2}}{\\partial \\mathbf{{y}_{C}}^{2}} \\operatorname{vx}{\\left(\\mathbf{{x}_{C}},\\mathbf{{y}_{C}},\\mathbf{{z}_{C}} \\right)}$"
      ],
      "text/plain": [
       "   2                    \n",
       "  ∂                     \n",
       "─────(vx(C_x, C_y, C_z))\n",
       "    2                   \n",
       "∂C_y                    "
      ]
     },
     "execution_count": 59,
     "metadata": {},
     "output_type": "execute_result"
    }
   ],
   "source": [
    "gradient(gradient(vx(C.x,C.y,C.z), coord_sys=C).dot(C.j)).dot(C.j)"
   ]
  },
  {
   "cell_type": "code",
   "execution_count": 60,
   "metadata": {},
   "outputs": [
    {
     "data": {
      "image/png": "[encoded data removed]",
      "text/latex": [
       "$\\displaystyle \\frac{\\partial^{2}}{\\partial \\mathbf{{z}_{C}}^{2}} \\operatorname{vx}{\\left(\\mathbf{{x}_{C}},\\mathbf{{y}_{C}},\\mathbf{{z}_{C}} \\right)}$"
      ],
      "text/plain": [
       "   2                    \n",
       "  ∂                     \n",
       "─────(vx(C_x, C_y, C_z))\n",
       "    2                   \n",
       "∂C_z                    "
      ]
     },
     "execution_count": 60,
     "metadata": {},
     "output_type": "execute_result"
    }
   ],
   "source": [
    "gradient(gradient(vx(C.x,C.y,C.z), coord_sys=C).dot(C.k)).dot(C.k)"
   ]
  },
  {
   "cell_type": "code",
   "execution_count": 62,
   "metadata": {},
   "outputs": [],
   "source": [
    "v = (vx(C.x,C.y,C.z))*C.i + (vy(C.x,C.y,C.z))*C.j + (vz(C.x,C.y,C.z))*C.k"
   ]
  },
  {
   "cell_type": "code",
   "execution_count": 63,
   "metadata": {},
   "outputs": [
    {
     "data": {
      "image/png": "[encoded data removed]",
      "text/latex": [
       "$\\displaystyle \\operatorname{vx}{\\left(\\mathbf{{x}_{C}},\\mathbf{{y}_{C}},\\mathbf{{z}_{C}} \\right)}$"
      ],
      "text/plain": [
       "vx(C_x, C_y, C_z)"
      ]
     },
     "execution_count": 63,
     "metadata": {},
     "output_type": "execute_result"
    }
   ],
   "source": [
    "v.dot(C.i)"
   ]
  },
  {
   "cell_type": "code",
   "execution_count": 70,
   "metadata": {},
   "outputs": [
    {
     "data": {
      "image/png": "[encoded data removed]",
      "text/latex": [
       "$\\displaystyle \\frac{\\partial^{2}}{\\partial \\mathbf{{x}_{C}}^{2}} \\operatorname{vx}{\\left(\\mathbf{{x}_{C}},\\mathbf{{y}_{C}},\\mathbf{{z}_{C}} \\right)} + \\frac{\\partial^{2}}{\\partial \\mathbf{{y}_{C}}^{2}} \\operatorname{vx}{\\left(\\mathbf{{x}_{C}},\\mathbf{{y}_{C}},\\mathbf{{z}_{C}} \\right)} + \\frac{\\partial^{2}}{\\partial \\mathbf{{z}_{C}}^{2}} \\operatorname{vx}{\\left(\\mathbf{{x}_{C}},\\mathbf{{y}_{C}},\\mathbf{{z}_{C}} \\right)}$"
      ],
      "text/plain": [
       "   2                          2                          2                    \n",
       "  ∂                          ∂                          ∂                     \n",
       "─────(vx(C_x, C_y, C_z)) + ─────(vx(C_x, C_y, C_z)) + ─────(vx(C_x, C_y, C_z))\n",
       "    2                          2                          2                   \n",
       "∂C_x                       ∂C_y                       ∂C_z                    "
      ]
     },
     "execution_count": 70,
     "metadata": {},
     "output_type": "execute_result"
    }
   ],
   "source": [
    "Del().dot(gradient(v.dot(C.i),coord_sys=C))"
   ]
  },
  {
   "cell_type": "code",
   "execution_count": 71,
   "metadata": {},
   "outputs": [
    {
     "data": {
      "image/png": "[encoded data removed]",
      "text/latex": [
       "$\\displaystyle \\operatorname{vy}{\\left(\\mathbf{{x}_{C}},\\mathbf{{y}_{C}},\\mathbf{{z}_{C}} \\right)}$"
      ],
      "text/plain": [
       "vy(C_x, C_y, C_z)"
      ]
     },
     "execution_count": 71,
     "metadata": {},
     "output_type": "execute_result"
    }
   ],
   "source": [
    "v.dot(C.j)"
   ]
  },
  {
   "cell_type": "code",
   "execution_count": 72,
   "metadata": {},
   "outputs": [
    {
     "data": {
      "image/png": "[encoded data removed]",
      "text/latex": [
       "$\\displaystyle \\frac{\\partial^{2}}{\\partial \\mathbf{{x}_{C}}^{2}} \\operatorname{vy}{\\left(\\mathbf{{x}_{C}},\\mathbf{{y}_{C}},\\mathbf{{z}_{C}} \\right)} + \\frac{\\partial^{2}}{\\partial \\mathbf{{y}_{C}}^{2}} \\operatorname{vy}{\\left(\\mathbf{{x}_{C}},\\mathbf{{y}_{C}},\\mathbf{{z}_{C}} \\right)} + \\frac{\\partial^{2}}{\\partial \\mathbf{{z}_{C}}^{2}} \\operatorname{vy}{\\left(\\mathbf{{x}_{C}},\\mathbf{{y}_{C}},\\mathbf{{z}_{C}} \\right)}$"
      ],
      "text/plain": [
       "   2                          2                          2                    \n",
       "  ∂                          ∂                          ∂                     \n",
       "─────(vy(C_x, C_y, C_z)) + ─────(vy(C_x, C_y, C_z)) + ─────(vy(C_x, C_y, C_z))\n",
       "    2                          2                          2                   \n",
       "∂C_x                       ∂C_y                       ∂C_z                    "
      ]
     },
     "execution_count": 72,
     "metadata": {},
     "output_type": "execute_result"
    }
   ],
   "source": [
    "Del().dot(gradient(v.dot(C.j),coord_sys=C))"
   ]
  },
  {
   "cell_type": "code",
   "execution_count": 73,
   "metadata": {},
   "outputs": [
    {
     "data": {
      "image/png": "[encoded data removed]",
      "text/latex": [
       "$\\displaystyle \\operatorname{vz}{\\left(\\mathbf{{x}_{C}},\\mathbf{{y}_{C}},\\mathbf{{z}_{C}} \\right)}$"
      ],
      "text/plain": [
       "vz(C_x, C_y, C_z)"
      ]
     },
     "execution_count": 73,
     "metadata": {},
     "output_type": "execute_result"
    }
   ],
   "source": [
    "v.dot(C.k)"
   ]
  },
  {
   "cell_type": "code",
   "execution_count": 74,
   "metadata": {},
   "outputs": [
    {
     "data": {
      "image/png": "[encoded data removed]",
      "text/latex": [
       "$\\displaystyle \\frac{\\partial^{2}}{\\partial \\mathbf{{x}_{C}}^{2}} \\operatorname{vz}{\\left(\\mathbf{{x}_{C}},\\mathbf{{y}_{C}},\\mathbf{{z}_{C}} \\right)} + \\frac{\\partial^{2}}{\\partial \\mathbf{{y}_{C}}^{2}} \\operatorname{vz}{\\left(\\mathbf{{x}_{C}},\\mathbf{{y}_{C}},\\mathbf{{z}_{C}} \\right)} + \\frac{\\partial^{2}}{\\partial \\mathbf{{z}_{C}}^{2}} \\operatorname{vz}{\\left(\\mathbf{{x}_{C}},\\mathbf{{y}_{C}},\\mathbf{{z}_{C}} \\right)}$"
      ],
      "text/plain": [
       "   2                          2                          2                    \n",
       "  ∂                          ∂                          ∂                     \n",
       "─────(vz(C_x, C_y, C_z)) + ─────(vz(C_x, C_y, C_z)) + ─────(vz(C_x, C_y, C_z))\n",
       "    2                          2                          2                   \n",
       "∂C_x                       ∂C_y                       ∂C_z                    "
      ]
     },
     "execution_count": 74,
     "metadata": {},
     "output_type": "execute_result"
    }
   ],
   "source": [
    "Del().dot(gradient(v.dot(C.k),coord_sys=C))"
   ]
  },
  {
   "cell_type": "code",
   "execution_count": 75,
   "metadata": {},
   "outputs": [
    {
     "data": {
      "image/png": "[encoded data removed]",
      "text/latex": [
       "$\\displaystyle Vx \\frac{\\partial}{\\partial \\mathbf{{x}_{C}}} \\operatorname{vx}{\\left(\\mathbf{{x}_{C}},\\mathbf{{y}_{C}},\\mathbf{{z}_{C}} \\right)} + Vy \\frac{\\partial}{\\partial \\mathbf{{y}_{C}}} \\operatorname{vx}{\\left(\\mathbf{{x}_{C}},\\mathbf{{y}_{C}},\\mathbf{{z}_{C}} \\right)} + Vz \\frac{\\partial}{\\partial \\mathbf{{z}_{C}}} \\operatorname{vx}{\\left(\\mathbf{{x}_{C}},\\mathbf{{y}_{C}},\\mathbf{{z}_{C}} \\right)}$"
      ],
      "text/plain": [
       "    ∂                            ∂                            ∂               \n",
       "Vx⋅────(vx(C_x, C_y, C_z)) + Vy⋅────(vx(C_x, C_y, C_z)) + Vz⋅────(vx(C_x, C_y,\n",
       "   ∂C_x                         ∂C_y                         ∂C_z             \n",
       "\n",
       "      \n",
       " C_z))\n",
       "      "
      ]
     },
     "execution_count": 75,
     "metadata": {},
     "output_type": "execute_result"
    }
   ],
   "source": [
    "V.dot(gradient(v.dot(C.i),coord_sys=C))"
   ]
  },
  {
   "cell_type": "code",
   "execution_count": 76,
   "metadata": {},
   "outputs": [
    {
     "data": {
      "image/png": "[encoded data removed]",
      "text/latex": [
       "$\\displaystyle Vx \\frac{\\partial}{\\partial \\mathbf{{x}_{C}}} \\operatorname{vy}{\\left(\\mathbf{{x}_{C}},\\mathbf{{y}_{C}},\\mathbf{{z}_{C}} \\right)} + Vy \\frac{\\partial}{\\partial \\mathbf{{y}_{C}}} \\operatorname{vy}{\\left(\\mathbf{{x}_{C}},\\mathbf{{y}_{C}},\\mathbf{{z}_{C}} \\right)} + Vz \\frac{\\partial}{\\partial \\mathbf{{z}_{C}}} \\operatorname{vy}{\\left(\\mathbf{{x}_{C}},\\mathbf{{y}_{C}},\\mathbf{{z}_{C}} \\right)}$"
      ],
      "text/plain": [
       "    ∂                            ∂                            ∂               \n",
       "Vx⋅────(vy(C_x, C_y, C_z)) + Vy⋅────(vy(C_x, C_y, C_z)) + Vz⋅────(vy(C_x, C_y,\n",
       "   ∂C_x                         ∂C_y                         ∂C_z             \n",
       "\n",
       "      \n",
       " C_z))\n",
       "      "
      ]
     },
     "execution_count": 76,
     "metadata": {},
     "output_type": "execute_result"
    }
   ],
   "source": [
    "V.dot(gradient(v.dot(C.j),coord_sys=C))"
   ]
  },
  {
   "cell_type": "code",
   "execution_count": 77,
   "metadata": {},
   "outputs": [
    {
     "data": {
      "image/png": "[encoded data removed]",
      "text/latex": [
       "$\\displaystyle Vx \\frac{\\partial}{\\partial \\mathbf{{x}_{C}}} \\operatorname{vz}{\\left(\\mathbf{{x}_{C}},\\mathbf{{y}_{C}},\\mathbf{{z}_{C}} \\right)} + Vy \\frac{\\partial}{\\partial \\mathbf{{y}_{C}}} \\operatorname{vz}{\\left(\\mathbf{{x}_{C}},\\mathbf{{y}_{C}},\\mathbf{{z}_{C}} \\right)} + Vz \\frac{\\partial}{\\partial \\mathbf{{z}_{C}}} \\operatorname{vz}{\\left(\\mathbf{{x}_{C}},\\mathbf{{y}_{C}},\\mathbf{{z}_{C}} \\right)}$"
      ],
      "text/plain": [
       "    ∂                            ∂                            ∂               \n",
       "Vx⋅────(vz(C_x, C_y, C_z)) + Vy⋅────(vz(C_x, C_y, C_z)) + Vz⋅────(vz(C_x, C_y,\n",
       "   ∂C_x                         ∂C_y                         ∂C_z             \n",
       "\n",
       "      \n",
       " C_z))\n",
       "      "
      ]
     },
     "execution_count": 77,
     "metadata": {},
     "output_type": "execute_result"
    }
   ],
   "source": [
    "V.dot(gradient(v.dot(C.k),coord_sys=C))"
   ]
  },
  {
   "cell_type": "code",
   "execution_count": 145,
   "metadata": {},
   "outputs": [],
   "source": [
    "vv = (v.to_matrix(C))*((v.to_matrix(C)).transpose())"
   ]
  },
  {
   "cell_type": "code",
   "execution_count": 146,
   "metadata": {},
   "outputs": [
    {
     "data": {
      "text/plain": [
       "sympy.matrices.immutable.ImmutableDenseMatrix"
      ]
     },
     "execution_count": 146,
     "metadata": {},
     "output_type": "execute_result"
    }
   ],
   "source": [
    "type(vv)"
   ]
  },
  {
   "cell_type": "code",
   "execution_count": 147,
   "metadata": {},
   "outputs": [
    {
     "data": {
      "text/latex": [
       "$\\displaystyle \\left[\\begin{matrix}\\operatorname{vx}^{2}{\\left(\\mathbf{{x}_{C}},\\mathbf{{y}_{C}},\\mathbf{{z}_{C}} \\right)} & \\operatorname{vx}{\\left(\\mathbf{{x}_{C}},\\mathbf{{y}_{C}},\\mathbf{{z}_{C}} \\right)} \\operatorname{vy}{\\left(\\mathbf{{x}_{C}},\\mathbf{{y}_{C}},\\mathbf{{z}_{C}} \\right)} & \\operatorname{vx}{\\left(\\mathbf{{x}_{C}},\\mathbf{{y}_{C}},\\mathbf{{z}_{C}} \\right)} \\operatorname{vz}{\\left(\\mathbf{{x}_{C}},\\mathbf{{y}_{C}},\\mathbf{{z}_{C}} \\right)}\\\\\\operatorname{vx}{\\left(\\mathbf{{x}_{C}},\\mathbf{{y}_{C}},\\mathbf{{z}_{C}} \\right)} \\operatorname{vy}{\\left(\\mathbf{{x}_{C}},\\mathbf{{y}_{C}},\\mathbf{{z}_{C}} \\right)} & \\operatorname{vy}^{2}{\\left(\\mathbf{{x}_{C}},\\mathbf{{y}_{C}},\\mathbf{{z}_{C}} \\right)} & \\operatorname{vy}{\\left(\\mathbf{{x}_{C}},\\mathbf{{y}_{C}},\\mathbf{{z}_{C}} \\right)} \\operatorname{vz}{\\left(\\mathbf{{x}_{C}},\\mathbf{{y}_{C}},\\mathbf{{z}_{C}} \\right)}\\\\\\operatorname{vx}{\\left(\\mathbf{{x}_{C}},\\mathbf{{y}_{C}},\\mathbf{{z}_{C}} \\right)} \\operatorname{vz}{\\left(\\mathbf{{x}_{C}},\\mathbf{{y}_{C}},\\mathbf{{z}_{C}} \\right)} & \\operatorname{vy}{\\left(\\mathbf{{x}_{C}},\\mathbf{{y}_{C}},\\mathbf{{z}_{C}} \\right)} \\operatorname{vz}{\\left(\\mathbf{{x}_{C}},\\mathbf{{y}_{C}},\\mathbf{{z}_{C}} \\right)} & \\operatorname{vz}^{2}{\\left(\\mathbf{{x}_{C}},\\mathbf{{y}_{C}},\\mathbf{{z}_{C}} \\right)}\\end{matrix}\\right]$"
      ],
      "text/plain": [
       "⎡          2                                                                  \n",
       "⎢        vx (C_x, C_y, C_z)           vx(C_x, C_y, C_z)⋅vy(C_x, C_y, C_z)  vx(\n",
       "⎢                                                                             \n",
       "⎢                                               2                             \n",
       "⎢vx(C_x, C_y, C_z)⋅vy(C_x, C_y, C_z)          vy (C_x, C_y, C_z)           vy(\n",
       "⎢                                                                             \n",
       "⎢                                                                             \n",
       "⎣vx(C_x, C_y, C_z)⋅vz(C_x, C_y, C_z)  vy(C_x, C_y, C_z)⋅vz(C_x, C_y, C_z)     \n",
       "\n",
       "                                ⎤\n",
       "C_x, C_y, C_z)⋅vz(C_x, C_y, C_z)⎥\n",
       "                                ⎥\n",
       "                                ⎥\n",
       "C_x, C_y, C_z)⋅vz(C_x, C_y, C_z)⎥\n",
       "                                ⎥\n",
       "       2                        ⎥\n",
       "     vz (C_x, C_y, C_z)         ⎦"
      ]
     },
     "execution_count": 147,
     "metadata": {},
     "output_type": "execute_result"
    }
   ],
   "source": [
    "vv"
   ]
  },
  {
   "cell_type": "code",
   "execution_count": 197,
   "metadata": {},
   "outputs": [
    {
     "data": {
      "image/png": "[encoded data removed]",
      "text/latex": [
       "$\\displaystyle \\frac{\\partial}{\\partial \\mathbf{{x}_{C}}} \\operatorname{vx}^{2}{\\left(\\mathbf{{x}_{C}},\\mathbf{{y}_{C}},\\mathbf{{z}_{C}} \\right)}$"
      ],
      "text/plain": [
       " ∂  ⎛  2               ⎞\n",
       "────⎝vx (C_x, C_y, C_z)⎠\n",
       "∂C_x                    "
      ]
     },
     "execution_count": 197,
     "metadata": {},
     "output_type": "execute_result"
    }
   ],
   "source": [
    "gradient(vv.row(0).dot(Matrix([1,0,0])),coord_sys =C,doit=False).dot(C.i)"
   ]
  },
  {
   "cell_type": "code",
   "execution_count": 198,
   "metadata": {},
   "outputs": [
    {
     "data": {
      "image/png": "[encoded data removed]",
      "text/latex": [
       "$\\displaystyle \\frac{\\partial}{\\partial \\mathbf{{y}_{C}}} \\operatorname{vx}{\\left(\\mathbf{{x}_{C}},\\mathbf{{y}_{C}},\\mathbf{{z}_{C}} \\right)} \\operatorname{vy}{\\left(\\mathbf{{x}_{C}},\\mathbf{{y}_{C}},\\mathbf{{z}_{C}} \\right)}$"
      ],
      "text/plain": [
       " ∂                                       \n",
       "────(vx(C_x, C_y, C_z)⋅vy(C_x, C_y, C_z))\n",
       "∂C_y                                     "
      ]
     },
     "execution_count": 198,
     "metadata": {},
     "output_type": "execute_result"
    }
   ],
   "source": [
    "gradient(vv.row(0).dot(Matrix([0,1,0])),coord_sys =C,doit=False).dot(C.j)"
   ]
  },
  {
   "cell_type": "code",
   "execution_count": 199,
   "metadata": {},
   "outputs": [
    {
     "data": {
      "image/png": "[encoded data removed]",
      "text/latex": [
       "$\\displaystyle \\frac{\\partial}{\\partial \\mathbf{{z}_{C}}} \\operatorname{vx}{\\left(\\mathbf{{x}_{C}},\\mathbf{{y}_{C}},\\mathbf{{z}_{C}} \\right)} \\operatorname{vz}{\\left(\\mathbf{{x}_{C}},\\mathbf{{y}_{C}},\\mathbf{{z}_{C}} \\right)}$"
      ],
      "text/plain": [
       " ∂                                       \n",
       "────(vx(C_x, C_y, C_z)⋅vz(C_x, C_y, C_z))\n",
       "∂C_z                                     "
      ]
     },
     "execution_count": 199,
     "metadata": {},
     "output_type": "execute_result"
    }
   ],
   "source": [
    "gradient(vv.row(0).dot(Matrix([0,0,1])),coord_sys =C,doit=False).dot(C.k)"
   ]
  },
  {
   "cell_type": "code",
   "execution_count": 208,
   "metadata": {},
   "outputs": [
    {
     "data": {
      "image/png": "[encoded data removed]",
      "text/latex": [
       "$\\displaystyle \\frac{\\partial}{\\partial \\mathbf{{y}_{C}}} \\operatorname{vx}{\\left(\\mathbf{{x}_{C}},\\mathbf{{y}_{C}},\\mathbf{{z}_{C}} \\right)} \\operatorname{vy}{\\left(\\mathbf{{x}_{C}},\\mathbf{{y}_{C}},\\mathbf{{z}_{C}} \\right)} + \\frac{\\partial}{\\partial \\mathbf{{z}_{C}}} \\operatorname{vx}{\\left(\\mathbf{{x}_{C}},\\mathbf{{y}_{C}},\\mathbf{{z}_{C}} \\right)} \\operatorname{vz}{\\left(\\mathbf{{x}_{C}},\\mathbf{{y}_{C}},\\mathbf{{z}_{C}} \\right)} + \\frac{\\partial}{\\partial \\mathbf{{x}_{C}}} \\operatorname{vx}^{2}{\\left(\\mathbf{{x}_{C}},\\mathbf{{y}_{C}},\\mathbf{{z}_{C}} \\right)}$"
      ],
      "text/plain": [
       " ∂                                           ∂                                \n",
       "────(vx(C_x, C_y, C_z)⋅vy(C_x, C_y, C_z)) + ────(vx(C_x, C_y, C_z)⋅vz(C_x, C_y\n",
       "∂C_y                                        ∂C_z                              \n",
       "\n",
       "           ∂  ⎛  2               ⎞\n",
       ", C_z)) + ────⎝vx (C_x, C_y, C_z)⎠\n",
       "          ∂C_x                    "
      ]
     },
     "execution_count": 208,
     "metadata": {},
     "output_type": "execute_result"
    }
   ],
   "source": [
    "gradient(vv.row(0).dot(Matrix([1,0,0])),coord_sys =C,doit=False).dot(C.i) + gradient(vv.row(0).dot(Matrix([0,1,0])),coord_sys =C,doit=False).dot(C.j) + gradient(vv.row(0).dot(Matrix([0,0,1])),coord_sys =C,doit=False).dot(C.k)"
   ]
  },
  {
   "cell_type": "code",
   "execution_count": 209,
   "metadata": {},
   "outputs": [
    {
     "data": {
      "image/png": "[encoded data removed]",
      "text/latex": [
       "$\\displaystyle \\frac{\\partial}{\\partial \\mathbf{{x}_{C}}} \\operatorname{vx}{\\left(\\mathbf{{x}_{C}},\\mathbf{{y}_{C}},\\mathbf{{z}_{C}} \\right)} \\operatorname{vy}{\\left(\\mathbf{{x}_{C}},\\mathbf{{y}_{C}},\\mathbf{{z}_{C}} \\right)} + \\frac{\\partial}{\\partial \\mathbf{{z}_{C}}} \\operatorname{vy}{\\left(\\mathbf{{x}_{C}},\\mathbf{{y}_{C}},\\mathbf{{z}_{C}} \\right)} \\operatorname{vz}{\\left(\\mathbf{{x}_{C}},\\mathbf{{y}_{C}},\\mathbf{{z}_{C}} \\right)} + \\frac{\\partial}{\\partial \\mathbf{{y}_{C}}} \\operatorname{vy}^{2}{\\left(\\mathbf{{x}_{C}},\\mathbf{{y}_{C}},\\mathbf{{z}_{C}} \\right)}$"
      ],
      "text/plain": [
       " ∂                                           ∂                                \n",
       "────(vx(C_x, C_y, C_z)⋅vy(C_x, C_y, C_z)) + ────(vy(C_x, C_y, C_z)⋅vz(C_x, C_y\n",
       "∂C_x                                        ∂C_z                              \n",
       "\n",
       "           ∂  ⎛  2               ⎞\n",
       ", C_z)) + ────⎝vy (C_x, C_y, C_z)⎠\n",
       "          ∂C_y                    "
      ]
     },
     "execution_count": 209,
     "metadata": {},
     "output_type": "execute_result"
    }
   ],
   "source": [
    "gradient(vv.row(1).dot(Matrix([1,0,0])),coord_sys =C,doit=False).dot(C.i) + gradient(vv.row(1).dot(Matrix([0,1,0])),coord_sys =C,doit=False).dot(C.j) + gradient(vv.row(1).dot(Matrix([0,0,1])),coord_sys =C,doit=False).dot(C.k)"
   ]
  },
  {
   "cell_type": "code",
   "execution_count": 210,
   "metadata": {},
   "outputs": [
    {
     "data": {
      "image/png": "[encoded data removed]",
      "text/latex": [
       "$\\displaystyle \\frac{\\partial}{\\partial \\mathbf{{x}_{C}}} \\operatorname{vx}{\\left(\\mathbf{{x}_{C}},\\mathbf{{y}_{C}},\\mathbf{{z}_{C}} \\right)} \\operatorname{vz}{\\left(\\mathbf{{x}_{C}},\\mathbf{{y}_{C}},\\mathbf{{z}_{C}} \\right)} + \\frac{\\partial}{\\partial \\mathbf{{y}_{C}}} \\operatorname{vy}{\\left(\\mathbf{{x}_{C}},\\mathbf{{y}_{C}},\\mathbf{{z}_{C}} \\right)} \\operatorname{vz}{\\left(\\mathbf{{x}_{C}},\\mathbf{{y}_{C}},\\mathbf{{z}_{C}} \\right)} + \\frac{\\partial}{\\partial \\mathbf{{z}_{C}}} \\operatorname{vz}^{2}{\\left(\\mathbf{{x}_{C}},\\mathbf{{y}_{C}},\\mathbf{{z}_{C}} \\right)}$"
      ],
      "text/plain": [
       " ∂                                           ∂                                \n",
       "────(vx(C_x, C_y, C_z)⋅vz(C_x, C_y, C_z)) + ────(vy(C_x, C_y, C_z)⋅vz(C_x, C_y\n",
       "∂C_x                                        ∂C_y                              \n",
       "\n",
       "           ∂  ⎛  2               ⎞\n",
       ", C_z)) + ────⎝vz (C_x, C_y, C_z)⎠\n",
       "          ∂C_z                    "
      ]
     },
     "execution_count": 210,
     "metadata": {},
     "output_type": "execute_result"
    }
   ],
   "source": [
    "gradient(vv.row(2).dot(Matrix([1,0,0])),coord_sys =C,doit=False).dot(C.i) + gradient(vv.row(2).dot(Matrix([0,1,0])),coord_sys =C,doit=False).dot(C.j) + gradient(vv.row(2).dot(Matrix([0,0,1])),coord_sys =C,doit=False).dot(C.k)"
   ]
  },
  {
   "cell_type": "code",
   "execution_count": 236,
   "metadata": {},
   "outputs": [],
   "source": [
    "Txx = Function(\"Txx\")(C.x,C.y,C.z)\n",
    "Txy = Function(\"Txy\")(C.x,C.y,C.z)\n",
    "Txz = Function(\"Txz\")(C.x,C.y,C.z)\n",
    "Tyx = Function(\"Tyx\")(C.x,C.y,C.z)\n",
    "Tyy = Function(\"Tyy\")(C.x,C.y,C.z)\n",
    "Tyz = Function(\"Tyz\")(C.x,C.y,C.z)\n",
    "Tzx = Function(\"Tzx\")(C.x,C.y,C.z)\n",
    "Tzy = Function(\"Tzy\")(C.x,C.y,C.z)\n",
    "Tzz = Function(\"Tzz\")(C.x,C.y,C.z)"
   ]
  },
  {
   "cell_type": "code",
   "execution_count": 282,
   "metadata": {},
   "outputs": [],
   "source": [
    "T = Matrix([[Txx,Txy,Txz],[Tyx,Tyy,Tyz],[Tzx,Tzy,Tzz]])"
   ]
  },
  {
   "cell_type": "code",
   "execution_count": 245,
   "metadata": {},
   "outputs": [
    {
     "data": {
      "image/png": "[encoded data removed]",
      "text/latex": [
       "$\\displaystyle \\frac{\\partial}{\\partial \\mathbf{{x}_{C}}} \\operatorname{Txx}{\\left(\\mathbf{{x}_{C}},\\mathbf{{y}_{C}},\\mathbf{{z}_{C}} \\right)} + \\frac{\\partial}{\\partial \\mathbf{{y}_{C}}} \\operatorname{Tyx}{\\left(\\mathbf{{x}_{C}},\\mathbf{{y}_{C}},\\mathbf{{z}_{C}} \\right)} + \\frac{\\partial}{\\partial \\mathbf{{z}_{C}}} \\operatorname{Tzx}{\\left(\\mathbf{{x}_{C}},\\mathbf{{y}_{C}},\\mathbf{{z}_{C}} \\right)}$"
      ],
      "text/plain": [
       " ∂                          ∂                          ∂                      \n",
       "────(Txx(C_x, C_y, C_z)) + ────(Tyx(C_x, C_y, C_z)) + ────(Tzx(C_x, C_y, C_z))\n",
       "∂C_x                       ∂C_y                       ∂C_z                    "
      ]
     },
     "execution_count": 245,
     "metadata": {},
     "output_type": "execute_result"
    }
   ],
   "source": [
    "gradient(T.row(0).dot((C.i).to_matrix(C)), doit=False).dot(C.i) + gradient(T.row(0).dot((C.j).to_matrix(C)), doit=False).dot(C.j) + gradient(T.row(0).dot((C.k).to_matrix(C)), doit=False).dot(C.k)"
   ]
  },
  {
   "cell_type": "code",
   "execution_count": 246,
   "metadata": {},
   "outputs": [
    {
     "data": {
      "image/png": "[encoded data removed]",
      "text/latex": [
       "$\\displaystyle \\frac{\\partial}{\\partial \\mathbf{{x}_{C}}} \\operatorname{Txy}{\\left(\\mathbf{{x}_{C}},\\mathbf{{y}_{C}},\\mathbf{{z}_{C}} \\right)} + \\frac{\\partial}{\\partial \\mathbf{{y}_{C}}} \\operatorname{Tyy}{\\left(\\mathbf{{x}_{C}},\\mathbf{{y}_{C}},\\mathbf{{z}_{C}} \\right)} + \\frac{\\partial}{\\partial \\mathbf{{z}_{C}}} \\operatorname{Tzy}{\\left(\\mathbf{{x}_{C}},\\mathbf{{y}_{C}},\\mathbf{{z}_{C}} \\right)}$"
      ],
      "text/plain": [
       " ∂                          ∂                          ∂                      \n",
       "────(Txy(C_x, C_y, C_z)) + ────(Tyy(C_x, C_y, C_z)) + ────(Tzy(C_x, C_y, C_z))\n",
       "∂C_x                       ∂C_y                       ∂C_z                    "
      ]
     },
     "execution_count": 246,
     "metadata": {},
     "output_type": "execute_result"
    }
   ],
   "source": [
    "gradient(T.row(1).dot((C.i).to_matrix(C)), doit=False).dot(C.i) + gradient(T.row(1).dot((C.j).to_matrix(C)), doit=False).dot(C.j) + gradient(T.row(1).dot((C.k).to_matrix(C)), doit=False).dot(C.k)"
   ]
  },
  {
   "cell_type": "code",
   "execution_count": 247,
   "metadata": {},
   "outputs": [
    {
     "data": {
      "image/png": "[encoded data removed]",
      "text/latex": [
       "$\\displaystyle \\frac{\\partial}{\\partial \\mathbf{{x}_{C}}} \\operatorname{Txz}{\\left(\\mathbf{{x}_{C}},\\mathbf{{y}_{C}},\\mathbf{{z}_{C}} \\right)} + \\frac{\\partial}{\\partial \\mathbf{{y}_{C}}} \\operatorname{Tyz}{\\left(\\mathbf{{x}_{C}},\\mathbf{{y}_{C}},\\mathbf{{z}_{C}} \\right)} + \\frac{\\partial}{\\partial \\mathbf{{z}_{C}}} \\operatorname{Tzz}{\\left(\\mathbf{{x}_{C}},\\mathbf{{y}_{C}},\\mathbf{{z}_{C}} \\right)}$"
      ],
      "text/plain": [
       " ∂                          ∂                          ∂                      \n",
       "────(Txz(C_x, C_y, C_z)) + ────(Tyz(C_x, C_y, C_z)) + ────(Tzz(C_x, C_y, C_z))\n",
       "∂C_x                       ∂C_y                       ∂C_z                    "
      ]
     },
     "execution_count": 247,
     "metadata": {},
     "output_type": "execute_result"
    }
   ],
   "source": [
    "gradient(T.row(2).dot((C.i).to_matrix(C)), doit=False).dot(C.i) + gradient(T.row(2).dot((C.j).to_matrix(C)), doit=False).dot(C.j) + gradient(T.row(2).dot((C.k).to_matrix(C)), doit=False).dot(C.k)"
   ]
  },
  {
   "cell_type": "code",
   "execution_count": 255,
   "metadata": {},
   "outputs": [
    {
     "data": {
      "image/png": "[encoded data removed]",
      "text/latex": [
       "$\\displaystyle (\\operatorname{vx}{\\left(\\mathbf{{x}_{C}},\\mathbf{{y}_{C}},\\mathbf{{z}_{C}} \\right)})\\mathbf{\\hat{i}_{C}} + (\\operatorname{vy}{\\left(\\mathbf{{x}_{C}},\\mathbf{{y}_{C}},\\mathbf{{z}_{C}} \\right)})\\mathbf{\\hat{j}_{C}} + (\\operatorname{vz}{\\left(\\mathbf{{x}_{C}},\\mathbf{{y}_{C}},\\mathbf{{z}_{C}} \\right)})\\mathbf{\\hat{k}_{C}}$"
      ],
      "text/plain": [
       "(vx(C.x, C.y, C.z))*C.i + (vy(C.x, C.y, C.z))*C.j + (vz(C.x, C.y, C.z))*C.k"
      ]
     },
     "execution_count": 255,
     "metadata": {},
     "output_type": "execute_result"
    }
   ],
   "source": [
    "v"
   ]
  },
  {
   "cell_type": "code",
   "execution_count": 270,
   "metadata": {},
   "outputs": [
    {
     "data": {
      "text/latex": [
       "$\\displaystyle \\left[\\begin{matrix}\\operatorname{vx}{\\left(\\mathbf{{x}_{C}},\\mathbf{{y}_{C}},\\mathbf{{z}_{C}} \\right)}\\\\\\operatorname{vy}{\\left(\\mathbf{{x}_{C}},\\mathbf{{y}_{C}},\\mathbf{{z}_{C}} \\right)}\\\\\\operatorname{vz}{\\left(\\mathbf{{x}_{C}},\\mathbf{{y}_{C}},\\mathbf{{z}_{C}} \\right)}\\end{matrix}\\right]$"
      ],
      "text/plain": [
       "⎡vx(C_x, C_y, C_z)⎤\n",
       "⎢                 ⎥\n",
       "⎢vy(C_x, C_y, C_z)⎥\n",
       "⎢                 ⎥\n",
       "⎣vz(C_x, C_y, C_z)⎦"
      ]
     },
     "execution_count": 270,
     "metadata": {},
     "output_type": "execute_result"
    }
   ],
   "source": [
    "v.to_matrix(C)"
   ]
  },
  {
   "cell_type": "code",
   "execution_count": 286,
   "metadata": {},
   "outputs": [
    {
     "data": {
      "image/png": "[encoded data removed]",
      "text/latex": [
       "$\\displaystyle \\operatorname{Txx}{\\left(\\mathbf{{x}_{C}},\\mathbf{{y}_{C}},\\mathbf{{z}_{C}} \\right)} \\frac{\\partial}{\\partial \\mathbf{{x}_{C}}} \\operatorname{vx}{\\left(\\mathbf{{x}_{C}},\\mathbf{{y}_{C}},\\mathbf{{z}_{C}} \\right)} + \\operatorname{Txy}{\\left(\\mathbf{{x}_{C}},\\mathbf{{y}_{C}},\\mathbf{{z}_{C}} \\right)} \\frac{\\partial}{\\partial \\mathbf{{y}_{C}}} \\operatorname{vx}{\\left(\\mathbf{{x}_{C}},\\mathbf{{y}_{C}},\\mathbf{{z}_{C}} \\right)} + \\operatorname{Txz}{\\left(\\mathbf{{x}_{C}},\\mathbf{{y}_{C}},\\mathbf{{z}_{C}} \\right)} \\frac{\\partial}{\\partial \\mathbf{{z}_{C}}} \\operatorname{vx}{\\left(\\mathbf{{x}_{C}},\\mathbf{{y}_{C}},\\mathbf{{z}_{C}} \\right)}$"
      ],
      "text/plain": [
       "                    ∂                                            ∂            \n",
       "Txx(C_x, C_y, C_z)⋅────(vx(C_x, C_y, C_z)) + Txy(C_x, C_y, C_z)⋅────(vx(C_x, C\n",
       "                   ∂C_x                                         ∂C_y          \n",
       "\n",
       "                                ∂                     \n",
       "_y, C_z)) + Txz(C_x, C_y, C_z)⋅────(vx(C_x, C_y, C_z))\n",
       "                               ∂C_z                   "
      ]
     },
     "execution_count": 286,
     "metadata": {},
     "output_type": "execute_result"
    }
   ],
   "source": [
    "T.row(0).dot(gradient(v.dot(C.i),doit=True).to_matrix(C))"
   ]
  },
  {
   "cell_type": "code",
   "execution_count": 287,
   "metadata": {},
   "outputs": [
    {
     "data": {
      "image/png": "[encoded data removed]",
      "text/latex": [
       "$\\displaystyle \\operatorname{Tyx}{\\left(\\mathbf{{x}_{C}},\\mathbf{{y}_{C}},\\mathbf{{z}_{C}} \\right)} \\frac{\\partial}{\\partial \\mathbf{{x}_{C}}} \\operatorname{vy}{\\left(\\mathbf{{x}_{C}},\\mathbf{{y}_{C}},\\mathbf{{z}_{C}} \\right)} + \\operatorname{Tyy}{\\left(\\mathbf{{x}_{C}},\\mathbf{{y}_{C}},\\mathbf{{z}_{C}} \\right)} \\frac{\\partial}{\\partial \\mathbf{{y}_{C}}} \\operatorname{vy}{\\left(\\mathbf{{x}_{C}},\\mathbf{{y}_{C}},\\mathbf{{z}_{C}} \\right)} + \\operatorname{Tyz}{\\left(\\mathbf{{x}_{C}},\\mathbf{{y}_{C}},\\mathbf{{z}_{C}} \\right)} \\frac{\\partial}{\\partial \\mathbf{{z}_{C}}} \\operatorname{vy}{\\left(\\mathbf{{x}_{C}},\\mathbf{{y}_{C}},\\mathbf{{z}_{C}} \\right)}$"
      ],
      "text/plain": [
       "                    ∂                                            ∂            \n",
       "Tyx(C_x, C_y, C_z)⋅────(vy(C_x, C_y, C_z)) + Tyy(C_x, C_y, C_z)⋅────(vy(C_x, C\n",
       "                   ∂C_x                                         ∂C_y          \n",
       "\n",
       "                                ∂                     \n",
       "_y, C_z)) + Tyz(C_x, C_y, C_z)⋅────(vy(C_x, C_y, C_z))\n",
       "                               ∂C_z                   "
      ]
     },
     "execution_count": 287,
     "metadata": {},
     "output_type": "execute_result"
    }
   ],
   "source": [
    "T.row(1).dot(gradient(v.dot(C.j),doit=True).to_matrix(C))"
   ]
  },
  {
   "cell_type": "code",
   "execution_count": 285,
   "metadata": {},
   "outputs": [
    {
     "data": {
      "image/png": "[encoded data removed]",
      "text/latex": [
       "$\\displaystyle \\operatorname{Tyx}{\\left(\\mathbf{{x}_{C}},\\mathbf{{y}_{C}},\\mathbf{{z}_{C}} \\right)} \\frac{\\partial}{\\partial \\mathbf{{x}_{C}}} \\operatorname{vy}{\\left(\\mathbf{{x}_{C}},\\mathbf{{y}_{C}},\\mathbf{{z}_{C}} \\right)} + \\operatorname{Tyy}{\\left(\\mathbf{{x}_{C}},\\mathbf{{y}_{C}},\\mathbf{{z}_{C}} \\right)} \\frac{\\partial}{\\partial \\mathbf{{y}_{C}}} \\operatorname{vy}{\\left(\\mathbf{{x}_{C}},\\mathbf{{y}_{C}},\\mathbf{{z}_{C}} \\right)} + \\operatorname{Tyz}{\\left(\\mathbf{{x}_{C}},\\mathbf{{y}_{C}},\\mathbf{{z}_{C}} \\right)} \\frac{\\partial}{\\partial \\mathbf{{z}_{C}}} \\operatorname{vy}{\\left(\\mathbf{{x}_{C}},\\mathbf{{y}_{C}},\\mathbf{{z}_{C}} \\right)}$"
      ],
      "text/plain": [
       "                    ∂                                            ∂            \n",
       "Tyx(C_x, C_y, C_z)⋅────(vy(C_x, C_y, C_z)) + Tyy(C_x, C_y, C_z)⋅────(vy(C_x, C\n",
       "                   ∂C_x                                         ∂C_y          \n",
       "\n",
       "                                ∂                     \n",
       "_y, C_z)) + Tyz(C_x, C_y, C_z)⋅────(vy(C_x, C_y, C_z))\n",
       "                               ∂C_z                   "
      ]
     },
     "execution_count": 285,
     "metadata": {},
     "output_type": "execute_result"
    }
   ],
   "source": [
    "T.row(1).dot(gradient(v.dot(C.j),doit=True).to_matrix(C))"
   ]
  },
  {
   "cell_type": "code",
   "execution_count": 288,
   "metadata": {},
   "outputs": [
    {
     "data": {
      "image/png": "[encoded data removed]",
      "text/latex": [
       "$\\displaystyle \\operatorname{Txx}{\\left(\\mathbf{{x}_{C}},\\mathbf{{y}_{C}},\\mathbf{{z}_{C}} \\right)} \\frac{\\partial}{\\partial \\mathbf{{x}_{C}}} \\operatorname{vx}{\\left(\\mathbf{{x}_{C}},\\mathbf{{y}_{C}},\\mathbf{{z}_{C}} \\right)} + \\operatorname{Txy}{\\left(\\mathbf{{x}_{C}},\\mathbf{{y}_{C}},\\mathbf{{z}_{C}} \\right)} \\frac{\\partial}{\\partial \\mathbf{{y}_{C}}} \\operatorname{vx}{\\left(\\mathbf{{x}_{C}},\\mathbf{{y}_{C}},\\mathbf{{z}_{C}} \\right)} + \\operatorname{Txz}{\\left(\\mathbf{{x}_{C}},\\mathbf{{y}_{C}},\\mathbf{{z}_{C}} \\right)} \\frac{\\partial}{\\partial \\mathbf{{z}_{C}}} \\operatorname{vx}{\\left(\\mathbf{{x}_{C}},\\mathbf{{y}_{C}},\\mathbf{{z}_{C}} \\right)} + 2 \\operatorname{Tyx}{\\left(\\mathbf{{x}_{C}},\\mathbf{{y}_{C}},\\mathbf{{z}_{C}} \\right)} \\frac{\\partial}{\\partial \\mathbf{{x}_{C}}} \\operatorname{vy}{\\left(\\mathbf{{x}_{C}},\\mathbf{{y}_{C}},\\mathbf{{z}_{C}} \\right)} + 2 \\operatorname{Tyy}{\\left(\\mathbf{{x}_{C}},\\mathbf{{y}_{C}},\\mathbf{{z}_{C}} \\right)} \\frac{\\partial}{\\partial \\mathbf{{y}_{C}}} \\operatorname{vy}{\\left(\\mathbf{{x}_{C}},\\mathbf{{y}_{C}},\\mathbf{{z}_{C}} \\right)} + 2 \\operatorname{Tyz}{\\left(\\mathbf{{x}_{C}},\\mathbf{{y}_{C}},\\mathbf{{z}_{C}} \\right)} \\frac{\\partial}{\\partial \\mathbf{{z}_{C}}} \\operatorname{vy}{\\left(\\mathbf{{x}_{C}},\\mathbf{{y}_{C}},\\mathbf{{z}_{C}} \\right)}$"
      ],
      "text/plain": [
       "                    ∂                                            ∂            \n",
       "Txx(C_x, C_y, C_z)⋅────(vx(C_x, C_y, C_z)) + Txy(C_x, C_y, C_z)⋅────(vx(C_x, C\n",
       "                   ∂C_x                                         ∂C_y          \n",
       "\n",
       "                                ∂                                             \n",
       "_y, C_z)) + Txz(C_x, C_y, C_z)⋅────(vx(C_x, C_y, C_z)) + 2⋅Tyx(C_x, C_y, C_z)⋅\n",
       "                               ∂C_z                                           \n",
       "\n",
       " ∂                                              ∂                             \n",
       "────(vy(C_x, C_y, C_z)) + 2⋅Tyy(C_x, C_y, C_z)⋅────(vy(C_x, C_y, C_z)) + 2⋅Tyz\n",
       "∂C_x                                           ∂C_y                           \n",
       "\n",
       "                 ∂                     \n",
       "(C_x, C_y, C_z)⋅────(vy(C_x, C_y, C_z))\n",
       "                ∂C_z                   "
      ]
     },
     "execution_count": 288,
     "metadata": {},
     "output_type": "execute_result"
    }
   ],
   "source": [
    "T.row(0).dot(gradient(v.dot(C.i),doit=True).to_matrix(C)) + T.row(1).dot(gradient(v.dot(C.j),doit=True).to_matrix(C)) + T.row(1).dot(gradient(v.dot(C.j),doit=True).to_matrix(C))"
   ]
  },
  {
   "cell_type": "code",
   "execution_count": null,
   "metadata": {},
   "outputs": [],
   "source": []
  }
 ],
 "metadata": {
  "kernelspec": {
   "display_name": "Python 3",
   "language": "python",
   "name": "python3"
  },
  "language_info": {
   "codemirror_mode": {
    "name": "ipython",
    "version": 3
   },
   "file_extension": ".py",
   "mimetype": "text/x-python",
   "name": "python",
   "nbconvert_exporter": "python",
   "pygments_lexer": "ipython3",
   "version": "3.7.4"
  }
 },
 "nbformat": 4,
 "nbformat_minor": 4
}
